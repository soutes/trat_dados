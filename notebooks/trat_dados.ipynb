{
 "cells": [
  {
   "cell_type": "markdown",
   "metadata": {},
   "source": [
    "Este projeto visa a aplicação de técnicas de tratamento de dados utilizando os dados do portal CEAPS, que contém informações sobre os gastos dos senadores brasileiros. \n",
    "\n",
    "As tarefas executadas incluem a identificação de inconsistências nos dados, como valores nulos e duplicados, a correção de campos monetários e a conversão de datas em formatos adequados. \n",
    "\n",
    "O objetivo é preparar os dados para análises mais aprofundadas, garantindo a qualidade e a integridade das informações.\n",
    "\n",
    "## Tecnologias Utilizadas\n",
    "Python 3.12\n",
    "\n",
    "Pandas\n",
    "\n",
    "Matplotlib\n",
    "\n",
    "Statsmodels\n",
    "\n",
    "Jupyter Notebook\n",
    "\n",
    "Docker"
   ]
  },
  {
   "cell_type": "code",
   "execution_count": 1,
   "metadata": {},
   "outputs": [],
   "source": [
    "import pandas as pd\n",
    "import numpy as np\n",
    "import seaborn as sns\n",
    "import matplotlib.pyplot as plt\n",
    "import plotly.express as px\n",
    "import plotly.graph_objects as go\n",
    "import requests\n",
    "import time\n",
    "from sklearn.linear_model import LinearRegression\n",
    "from statsmodels.tsa.arima.model import ARIMA\n",
    "from sklearn.metrics import mean_absolute_error, mean_squared_error"
   ]
  },
  {
   "cell_type": "markdown",
   "metadata": {},
   "source": [
    "1. Construção do dataframe"
   ]
  },
  {
   "cell_type": "code",
   "execution_count": null,
   "metadata": {},
   "outputs": [],
   "source": [
    "arquivos = ['../docs/despesa_ceaps_2019.csv', '../docs/despesa_ceaps_2020.csv', '../docs/despesa_ceaps_2021.csv', '../docs/despesa_ceaps_2022.csv']\n",
    "dataframes = []\n",
    "for arquivo in arquivos:\n",
    "    df = pd.read_csv(arquivo, header=1)  \n",
    "    dataframes.append(df)\n",
    "dataset = pd.concat(dataframes, ignore_index=True)"
   ]
  },
  {
   "cell_type": "markdown",
   "metadata": {},
   "source": [
    "2. Visualização dos dados"
   ]
  },
  {
   "cell_type": "code",
   "execution_count": null,
   "metadata": {},
   "outputs": [],
   "source": [
    "# Preview do dataframe (5 primeiras linhas)\n",
    "dataset.head()"
   ]
  },
  {
   "cell_type": "code",
   "execution_count": null,
   "metadata": {},
   "outputs": [],
   "source": [
    "# Tamanho do dataframe\n",
    "dataset.shape"
   ]
  },
  {
   "cell_type": "code",
   "execution_count": null,
   "metadata": {},
   "outputs": [],
   "source": [
    "# Nome das variáveis\n",
    "print(dataset.columns)"
   ]
  },
  {
   "cell_type": "code",
   "execution_count": null,
   "metadata": {},
   "outputs": [],
   "source": [
    "# Tipos das variáveis\n",
    "print(dataset.dtypes)"
   ]
  },
  {
   "cell_type": "code",
   "execution_count": null,
   "metadata": {},
   "outputs": [],
   "source": [
    "#Conferência se estão os dados dos 4 anos importados no csv\n",
    "print(dataset['ANO'].unique())"
   ]
  },
  {
   "cell_type": "code",
   "execution_count": null,
   "metadata": {},
   "outputs": [],
   "source": [
    "#Conferência se estão os dados dos 4 anos importados no csv\n",
    "print(dataset['MES'].unique())"
   ]
  },
  {
   "cell_type": "markdown",
   "metadata": {},
   "source": [
    "3. Tratamento dos dados nulos"
   ]
  },
  {
   "cell_type": "code",
   "execution_count": null,
   "metadata": {},
   "outputs": [],
   "source": [
    "#Contagem dos nulos\n",
    "dataset.isnull().sum()"
   ]
  },
  {
   "cell_type": "markdown",
   "metadata": {},
   "source": [
    "Agora ficou claro que existem dados faltantes nas variáveis DOCUMENTO, DETALHAMENTO e COD_DOCUMENTO. A seguir sera feita uma análise de cada variável para decidir como proceder nos casos dos dados faltantes."
   ]
  },
  {
   "cell_type": "code",
   "execution_count": null,
   "metadata": {},
   "outputs": [],
   "source": [
    "# Exibir os valores únicos na coluna DOCUMENTO\n",
    "print(\"Valores únicos na coluna DOCUMENTO:\")\n",
    "print(dataset['DOCUMENTO'].unique())\n",
    "\n",
    "# Contar a frequência de cada valor na coluna DOCUMENTO\n",
    "print(\"Frequência de cada valor na coluna DOCUMENTO:\")\n",
    "print(dataset['DOCUMENTO'].value_counts())"
   ]
  },
  {
   "cell_type": "markdown",
   "metadata": {},
   "source": [
    "Os dados contidos nesta variável trazem informações vagas sobre qual seria o documento. Porem o mesmo não segue um padrão e tem vários dados faltantes. Sabendo disso, podemos afirmar que esta variável não é relevante para este projeto."
   ]
  },
  {
   "cell_type": "code",
   "execution_count": null,
   "metadata": {},
   "outputs": [],
   "source": [
    "dataset[dataset['DETALHAMENTO'].isna()].head(5)"
   ]
  },
  {
   "cell_type": "markdown",
   "metadata": {},
   "source": [
    "A variável DETALHAMENTO segue o mesmo mencionado para DOCUMENTO. Pelo mesmo motivo, também sera removida."
   ]
  },
  {
   "cell_type": "code",
   "execution_count": null,
   "metadata": {},
   "outputs": [],
   "source": [
    "dataset = dataset.drop(columns=['DOCUMENTO', 'DETALHAMENTO'])\n",
    "\n",
    "#Checagem após a exclusão das variáveis\n",
    "print(dataset.columns)"
   ]
  },
  {
   "cell_type": "code",
   "execution_count": null,
   "metadata": {},
   "outputs": [],
   "source": [
    "#Distribuição dos dados na variável Senador\n",
    "dataset['SENADOR'].value_counts()"
   ]
  },
  {
   "cell_type": "markdown",
   "metadata": {},
   "source": [
    "Temos 159 senadores, sendo que o Carlos Viana é o que aparece com mais registros."
   ]
  },
  {
   "cell_type": "code",
   "execution_count": null,
   "metadata": {},
   "outputs": [],
   "source": [
    "dataset['COD_DOCUMENTO'].value_counts()"
   ]
  },
  {
   "cell_type": "code",
   "execution_count": null,
   "metadata": {},
   "outputs": [],
   "source": [
    "#Como temos apenas 1 registro nulo na variável COD_DOCUMENTO, esta sera removida\n",
    "dataset = dataset.dropna(subset=['COD_DOCUMENTO'])"
   ]
  },
  {
   "cell_type": "code",
   "execution_count": null,
   "metadata": {},
   "outputs": [],
   "source": [
    "# Esta variável é uma informação do tipo texto e não numerica como consta. Para esta não comprometar futuras visualizações dos dados, o correto é converter a mesma para string\n",
    "dataset['COD_DOCUMENTO'] = dataset['COD_DOCUMENTO'].astype(str)\n"
   ]
  },
  {
   "cell_type": "code",
   "execution_count": null,
   "metadata": {},
   "outputs": [],
   "source": [
    "#Checagem dos dados faltantes:\n",
    "dataset.isnull().sum()"
   ]
  },
  {
   "cell_type": "markdown",
   "metadata": {},
   "source": [
    "4. Tratamento da coluna ANO e DATA"
   ]
  },
  {
   "cell_type": "markdown",
   "metadata": {},
   "source": [
    "Há um erro de registro nas datas. Antes de converter essa string em date, é preciso corrigir esse erro."
   ]
  },
  {
   "cell_type": "code",
   "execution_count": null,
   "metadata": {},
   "outputs": [],
   "source": [
    "# Contagem de quantas vezes o ano esta escrito de forma errada:\n",
    "mascara = dataset['DATA'].str.contains(r'/02\\d{2}', na=False)\n",
    "\n",
    "quantidade = mascara.sum()\n",
    "\n",
    "print(\"Quantidade de vezes que aparece '/02' quando deveria ser '/20' no lugar do ano:\", quantidade)\n"
   ]
  },
  {
   "cell_type": "code",
   "execution_count": null,
   "metadata": {},
   "outputs": [],
   "source": [
    "# Substituição de todos os registros errado nos anos:\n",
    "dataset['DATA'] = dataset['DATA'].str.replace(r'/02(\\d{2})$', r'/20\\1', regex=True)"
   ]
  },
  {
   "cell_type": "code",
   "execution_count": null,
   "metadata": {},
   "outputs": [],
   "source": [
    "dataset['DATA'] = pd.to_datetime(dataset['DATA'], format='%d/%m/%Y')"
   ]
  },
  {
   "cell_type": "markdown",
   "metadata": {},
   "source": [
    "Como este projeto trata apenas de 2019 a 2022, qualquer informação fora disso sera removida."
   ]
  },
  {
   "cell_type": "code",
   "execution_count": null,
   "metadata": {},
   "outputs": [],
   "source": [
    "#Verificar se possem datas diferente de 2019 até 2022 na variável DATA:\n",
    "# Definir o intervalo de datas\n",
    "inicio_intervalo = pd.to_datetime('2019-01-01')\n",
    "fim_intervalo = pd.to_datetime('2022-12-31')\n",
    "\n",
    "# Filtrar o DataFrame para remover datas fora do intervalo usando inplace=True\n",
    "dataset.drop(dataset[(dataset['DATA'] < inicio_intervalo) | (dataset['DATA'] > fim_intervalo)].index, inplace=True)\n",
    "print(\"DataFrame após remover registros fora do intervalo 2019-2022:\")\n",
    "print(dataset['DATA'])"
   ]
  },
  {
   "cell_type": "code",
   "execution_count": null,
   "metadata": {},
   "outputs": [],
   "source": [
    "# Identificar datas fora do intervalo\n",
    "datas_fora_intervalo = dataset[(dataset['DATA'] < inicio_intervalo) | (dataset['DATA'] > fim_intervalo)]\n",
    "\n",
    "# Imprimir apenas as informações da coluna DATA que estão fora do intervalo 2019-2022\n",
    "print(\"Datas fora do intervalo 2019-2022:\")\n",
    "print(datas_fora_intervalo['DATA'])\n"
   ]
  },
  {
   "cell_type": "markdown",
   "metadata": {},
   "source": [
    "Como ja temos as informações de datas na variável DATA, não precisamos manter as variáveis ANO e MES, pois são redundantes."
   ]
  },
  {
   "cell_type": "code",
   "execution_count": null,
   "metadata": {},
   "outputs": [],
   "source": [
    "dataset.drop(columns=['ANO', 'MES'], inplace=True)"
   ]
  },
  {
   "cell_type": "code",
   "execution_count": null,
   "metadata": {},
   "outputs": [],
   "source": [
    "# Checagem das variáveis\n",
    "print(dataset.dtypes)"
   ]
  },
  {
   "cell_type": "code",
   "execution_count": null,
   "metadata": {},
   "outputs": [],
   "source": [
    "dataset.head(20)"
   ]
  },
  {
   "cell_type": "markdown",
   "metadata": {},
   "source": [
    "5. Inspeção da variável VALOR_REEMBOLSADO"
   ]
  },
  {
   "cell_type": "code",
   "execution_count": null,
   "metadata": {},
   "outputs": [],
   "source": [
    "#Substituição da vírgula para ponto, e em seguida a conversão de string para float\n",
    "dataset['VALOR_REEMBOLSADO'] = dataset['VALOR_REEMBOLSADO'].str.replace(',', '.')\n",
    "dataset['VALOR_REEMBOLSADO'] = dataset['VALOR_REEMBOLSADO'].astype(float)\n"
   ]
  },
  {
   "cell_type": "code",
   "execution_count": null,
   "metadata": {},
   "outputs": [],
   "source": [
    "# Garantir que VALOR_REEMBOLSADO está no formato numérico\n",
    "#dataset['VALOR_REEMBOLSADO'] = pd.to_numeric(dataset['VALOR_REEMBOLSADO'], errors='coerce')\n",
    "\n",
    "# Calcular as estatísticas\n",
    "valor_max = dataset['VALOR_REEMBOLSADO'].max()\n",
    "valor_min = dataset['VALOR_REEMBOLSADO'].min()\n",
    "valor_media = dataset['VALOR_REEMBOLSADO'].mean()\n",
    "valor_mediana = dataset['VALOR_REEMBOLSADO'].median()\n",
    "\n",
    "# Exibir os resultados\n",
    "print(f\"Valor Máximo: R$ {valor_max:.2f}\")\n",
    "print(f\"Valor Mínimo: R$ {valor_min:.2f}\")\n",
    "print(f\"Valor Médio: R$ {valor_media:.2f}\")\n",
    "print(f\"Mediana: R$ {valor_mediana:.2f}\")\n"
   ]
  },
  {
   "cell_type": "code",
   "execution_count": null,
   "metadata": {},
   "outputs": [],
   "source": [
    "# Calcular Q1, Q3 e IQR\n",
    "Q1 = dataset['VALOR_REEMBOLSADO'].quantile(0.25)\n",
    "Q3 = dataset['VALOR_REEMBOLSADO'].quantile(0.75)\n",
    "IQR = Q3 - Q1\n",
    "\n",
    "# Definir os limites inferior e superior\n",
    "limite_inferior = Q1 - 1.5 * IQR\n",
    "limite_superior = Q3 + 1.5 * IQR\n",
    "\n",
    "# Filtrar os dados dentro do intervalo\n",
    "dataset_sem_outliers = dataset[(dataset['VALOR_REEMBOLSADO'] >= limite_inferior) & \n",
    "                               (dataset['VALOR_REEMBOLSADO'] <= limite_superior)]\n",
    "\n",
    "# Exibir as novas estatísticas\n",
    "print(f\"Dados sem outliers: {len(dataset_sem_outliers)} linhas\")\n",
    "print(f\"Valor Máximo (Ajustado): R$ {dataset_sem_outliers['VALOR_REEMBOLSADO'].max():.2f}\")\n",
    "print(f\"Valor Mínimo (Ajustado): R$ {dataset_sem_outliers['VALOR_REEMBOLSADO'].min():.2f}\")\n"
   ]
  },
  {
   "cell_type": "code",
   "execution_count": null,
   "metadata": {},
   "outputs": [],
   "source": [
    "# Selecionar apenas os outliers\n",
    "outliers = dataset[(dataset['VALOR_REEMBOLSADO'] < limite_inferior) | \n",
    "                   (dataset['VALOR_REEMBOLSADO'] > limite_superior)]\n",
    "\n",
    "# Exibir os outliers\n",
    "print(f\"Número de outliers: {len(outliers)}\")\n",
    "print(outliers[['VALOR_REEMBOLSADO']].describe())"
   ]
  },
  {
   "cell_type": "code",
   "execution_count": null,
   "metadata": {},
   "outputs": [],
   "source": [
    "# Exibir os outliers\n",
    "print(f\"Número de outliers: {len(outliers)}\")\n",
    "print(outliers[['VALOR_REEMBOLSADO']].describe())\n",
    "\n",
    "# Plotar os valores de reembolso e destacar os outliers\n",
    "plt.figure(figsize=(10, 6))\n",
    "plt.plot(dataset['DATA'], dataset['VALOR_REEMBOLSADO'], label='Valor Reembolsado', color='blue', marker='o')\n",
    "plt.scatter(outliers['DATA'], outliers['VALOR_REEMBOLSADO'], color='red', label='Outliers', zorder=5)\n",
    "plt.axhline(limite_inferior, color='green', linestyle='--', label='Limite Inferior')\n",
    "plt.axhline(limite_superior, color='orange', linestyle='--', label='Limite Superior')\n",
    "plt.xlabel('Data')\n",
    "plt.ylabel('Valor Reembolsado')\n",
    "plt.title('Variação do Valor Reembolsado com Outliers Destacados')\n",
    "plt.legend()\n",
    "plt.grid(True)\n",
    "plt.xticks(rotation=45)\n",
    "plt.tight_layout()\n",
    "plt.show()\n"
   ]
  },
  {
   "cell_type": "code",
   "execution_count": null,
   "metadata": {},
   "outputs": [],
   "source": [
    "# Selecionar apenas os outliers\n",
    "outliers = dataset[(dataset['VALOR_REEMBOLSADO'] < limite_inferior) | (dataset['VALOR_REEMBOLSADO'] > limite_superior)]\n",
    "\n",
    "# Plotar os valores de reembolso e destacar os outliers\n",
    "plt.figure(figsize=(10, 6))\n",
    "plt.plot(dataset.index, dataset['VALOR_REEMBOLSADO'], label='Valor Reembolsado', color='blue', marker='o')\n",
    "plt.scatter(outliers.index, outliers['VALOR_REEMBOLSADO'], color='red', label='Outliers', zorder=5)\n",
    "plt.axhline(limite_inferior, color='green', linestyle='--', label='Limite Inferior')\n",
    "plt.axhline(limite_superior, color='orange', linestyle='--', label='Limite Superior')\n",
    "plt.xlabel('Índice')\n",
    "plt.ylabel('Valor Reembolsado')\n",
    "plt.title('Variação do Valor Reembolsado com Outliers Destacados')\n",
    "plt.legend()\n",
    "plt.grid(True)\n",
    "plt.tight_layout()\n",
    "plt.show()\n"
   ]
  },
  {
   "cell_type": "code",
   "execution_count": null,
   "metadata": {},
   "outputs": [],
   "source": [
    "# Criar bins (intervalos)\n",
    "bins = [0, 100, 500, 1000, 5000, 10000, 50000, dataset['VALOR_REEMBOLSADO'].max()]\n",
    "labels = ['0-100', '101-500', '501-1000', '1001-5000', '5001-10000', '10001-50000', '50001+']\n",
    "dataset['VALOR_REEMBOLSADO_BINS'] = pd.cut(dataset['VALOR_REEMBOLSADO'], bins=bins, labels=labels)\n",
    "\n",
    "# Contar frequência em cada bin\n",
    "print(dataset['VALOR_REEMBOLSADO_BINS'].value_counts())\n",
    "\n",
    "# Visualizar\n",
    "dataset['VALOR_REEMBOLSADO_BINS'].value_counts().plot(kind='bar', color='skyblue')\n",
    "plt.title('Distribuição por Intervalos de Valor')\n",
    "plt.xlabel('Intervalos de Valor Reembolsado')\n",
    "plt.ylabel('Frequência')\n",
    "plt.show()\n"
   ]
  },
  {
   "cell_type": "markdown",
   "metadata": {},
   "source": [
    "6. Visualização dos dados"
   ]
  },
  {
   "cell_type": "markdown",
   "metadata": {},
   "source": [
    "Já que temos os dados prontos para uma breve analise, veja alguns dados e gráficos a seguir."
   ]
  },
  {
   "cell_type": "code",
   "execution_count": null,
   "metadata": {},
   "outputs": [],
   "source": [
    "# Número de dados na variável 'TIPO_DESPESA'\n",
    "numero_tipos_despesa = dataset['TIPO_DESPESA'].nunique()\n",
    "print(f\"Número de tipos únicos de despesa: {numero_tipos_despesa}\")\n"
   ]
  },
  {
   "cell_type": "code",
   "execution_count": null,
   "metadata": {},
   "outputs": [],
   "source": [
    "# Os 10 tipos mais frequentes e quantas vezes eles aparecem no dataset.\n",
    "contagem_despesas = dataset['TIPO_DESPESA'].value_counts()\n",
    "\n",
    "# Visualização em forma tabular\n",
    "tabela_despesas = pd.DataFrame(contagem_despesas)\n",
    "tabela_despesas.reset_index(inplace=True)\n",
    "tabela_despesas.columns = ['Tipo de Despesa', 'Contagem']\n",
    "print(tabela_despesas)\n",
    "\n"
   ]
  },
  {
   "cell_type": "markdown",
   "metadata": {},
   "source": [
    "Agora uma breve analise em relação ao reembolso dos senadores."
   ]
  },
  {
   "cell_type": "code",
   "execution_count": null,
   "metadata": {},
   "outputs": [],
   "source": [
    "# Agrupar os dados por CNPJ_CPF e somar os VALOR_REEMBOLSADO\n",
    "cnpj_total = dataset.groupby('CNPJ_CPF')['VALOR_REEMBOLSADO'].sum().reset_index()\n",
    "\n",
    "# Ordenar os CNPJs pelo valor reembolsado em ordem decrescente e pegar os top 10\n",
    "top10_cnpjs = cnpj_total.sort_values(by='VALOR_REEMBOLSADO', ascending=False).head(10)\n",
    "\n",
    "# Exibir os resultados\n",
    "print(top10_cnpjs)\n"
   ]
  },
  {
   "cell_type": "code",
   "execution_count": null,
   "metadata": {},
   "outputs": [],
   "source": [
    "def limpar_cnpj(cnpj):\n",
    "    # Remover quaisquer caracteres que não sejam dígitos\n",
    "    return ''.join(filter(str.isdigit, cnpj))\n",
    "\n",
    "def obter_nome_empresa(cnpj):\n",
    "    cnpj = limpar_cnpj(cnpj)  # Limpa o CNPJ antes de fazer a requisição\n",
    "    url = f\"https://brasilapi.com.br/api/cnpj/v1/{cnpj}\"\n",
    "    tentativas = 3  # Número de tentativas de requisição\n",
    "    for tentativa in range(tentativas):\n",
    "        try:\n",
    "            response = requests.get(url, timeout=10)  # Define um timeout de 10 segundos\n",
    "            response.raise_for_status()  # Verifica se a requisição foi bem-sucedida\n",
    "            data = response.json()\n",
    "            return data.get('razao_social')\n",
    "        except requests.HTTPError as e:\n",
    "            print(f\"Erro HTTP ao acessar a API para o CNPJ {cnpj}: {e}\")\n",
    "            if response.status_code in [500, 502, 503, 504]:\n",
    "                time.sleep(5)  # Espera 5 segundos antes de tentar novamente se for erro do servidor\n",
    "            else:\n",
    "                break  # Para outros erros HTTP, interrompe as tentativas\n",
    "        except requests.RequestException as e:\n",
    "            print(f\"Erro de rede ao acessar a API para o CNPJ {cnpj}: {e}\")\n",
    "            time.sleep(5)  # Espera 5 segundos antes de tentar novamente\n",
    "        except Exception as e:\n",
    "            print(f\"Erro desconhecido: {e}\")\n",
    "            break\n",
    "    return None\n",
    "\n",
    "# Aplicação da função com tratamento de exceções\n",
    "top10_cnpjs['NOME_EMPRESA'] = top10_cnpjs['CNPJ_CPF'].apply(obter_nome_empresa)\n",
    "\n",
    "# Verificar o DataFrame\n",
    "print(top10_cnpjs[['CNPJ_CPF', 'NOME_EMPRESA']])\n",
    "\n",
    "# Criar o gráfico de barras com Plotly Express\n",
    "fig = px.bar(top10_cnpjs, x=\"NOME_EMPRESA\", y=\"VALOR_REEMBOLSADO\",\n",
    "             title=\"Top 10 Empresas por Valor Reembolsado\",\n",
    "             labels={\"VALOR_REEMBOLSADO\": \"Valor Reembolsado Total (R$)\", \"NOME_EMPRESA\": \"Empresa\"},\n",
    "             text='VALOR_REEMBOLSADO')\n",
    "\n",
    "# Ajustar a apresentação do gráfico\n",
    "fig.update_traces(texttemplate='%{text:.2s}', textposition='outside')\n",
    "fig.update_layout(xaxis={'categoryorder':'total descending'},\n",
    "                  yaxis_title=\"Valor Reembolsado Total (R$)\",\n",
    "                  xaxis_title=\"Empresa\",\n",
    "                  xaxis_tickangle=-45)\n",
    "\n",
    "# Exibir o gráfico\n",
    "fig.show()\n"
   ]
  },
  {
   "cell_type": "code",
   "execution_count": null,
   "metadata": {},
   "outputs": [],
   "source": [
    "# Filtrar o dataset para incluir apenas registros do CNPJ específico\n",
    "cnpj_especifico = '02.354.051/0001-47'\n",
    "dados_filtrados = dataset[dataset['CNPJ_CPF'] == cnpj_especifico]\n",
    "\n",
    "# Agrupar os dados por SENADOR e somar os VALOR_REEMBOLSADO\n",
    "senadores_reembolsos = dados_filtrados.groupby('SENADOR')['VALOR_REEMBOLSADO'].sum().reset_index()\n",
    "\n",
    "# Ordenar os senadores pelo valor reembolsado em ordem decrescente\n",
    "senadores_reembolsos = senadores_reembolsos.sort_values(by='VALOR_REEMBOLSADO', ascending=False)\n",
    "\n",
    "# Exibir os resultados\n",
    "print(f\"O(s) senador(es) com o maior(es) reembolso(s) para a empresa 14.294.443/0001-47 (A CAMACHO TORRES) foi o: {senadores_reembolsos}\")\n"
   ]
  },
  {
   "cell_type": "code",
   "execution_count": null,
   "metadata": {},
   "outputs": [],
   "source": [
    "# Filtrar o dataset para incluir apenas registros do CNPJ específico\n",
    "cnpj_especifico = '33.055.400/0001-53'\n",
    "dados_filtrados = dataset[dataset['CNPJ_CPF'] == cnpj_especifico]\n",
    "\n",
    "# Agrupar os dados por SENADOR e somar os VALOR_REEMBOLSADO\n",
    "senadores_reembolsos = dados_filtrados.groupby('SENADOR')['VALOR_REEMBOLSADO'].sum().reset_index()\n",
    "\n",
    "# Ordenar os senadores pelo valor reembolsado em ordem decrescente\n",
    "senadores_reembolsos = senadores_reembolsos.sort_values(by='VALOR_REEMBOLSADO', ascending=False)\n",
    "\n",
    "# Exibir os resultados\n",
    "print(f\"O(s) senador(es) com o maior(es) reembolso(s) para a empresa 33.055.400/0001-53 (L COELHO SERRA) foi o: {senadores_reembolsos}\")\n"
   ]
  },
  {
   "cell_type": "code",
   "execution_count": null,
   "metadata": {},
   "outputs": [],
   "source": [
    "# Filtrar o dataset para incluir apenas registros do CNPJ específico\n",
    "cnpj_especifico = '31.837.019/0001-10'\n",
    "dados_filtrados = dataset[dataset['CNPJ_CPF'] == cnpj_especifico]\n",
    "\n",
    "# Agrupar os dados por SENADOR e somar os VALOR_REEMBOLSADO\n",
    "senadores_reembolsos = dados_filtrados.groupby('SENADOR')['VALOR_REEMBOLSADO'].sum().reset_index()\n",
    "\n",
    "# Ordenar os senadores pelo valor reembolsado em ordem decrescente\n",
    "senadores_reembolsos = senadores_reembolsos.sort_values(by='VALOR_REEMBOLSADO', ascending=False)\n",
    "\n",
    "# Exibir os resultados\n",
    "print(f\"O(s) senador(es) com o maior(es) reembolso(s) para a empresa 31.837.019/0001-10 (BORA COMUNICACAO E MARKETING DIGITAL LTDA) foi o: {senadores_reembolsos}\")\n"
   ]
  },
  {
   "cell_type": "code",
   "execution_count": null,
   "metadata": {},
   "outputs": [],
   "source": [
    "#Função para abreviar os valores que será usada em alguns gráficos a seguir.\n",
    "def abreviar_valor(num):\n",
    "    \"\"\"Abrevia valores numéricos usando K para milhares, M para milhões, etc.\"\"\"\n",
    "    for unidade in ['', 'K', 'M', 'B', 'T']:\n",
    "        if abs(num) < 1000:\n",
    "            return f\"{num:.1f}{unidade}\"\n",
    "        num /= 1000.0\n",
    "    return f\"{num:.1f}T\"  # Caso extremamente grande"
   ]
  },
  {
   "cell_type": "code",
   "execution_count": null,
   "metadata": {},
   "outputs": [],
   "source": [
    "# Calcular a soma total dos valores reembolsados\n",
    "total_reembolsos = dataset['VALOR_REEMBOLSADO'].sum()\n",
    "\n",
    "# Exibir o valor total e o valor abreviado\n",
    "print(f\"O valor total dos reembolsos é: R$ {total_reembolsos:.2f}\")\n",
    "print(f\"O valor total dos reembolsos abreviado é: R$ {abreviar_valor(total_reembolsos)}\")\n"
   ]
  },
  {
   "cell_type": "code",
   "execution_count": null,
   "metadata": {},
   "outputs": [],
   "source": [
    "# Calcular a soma total dos valores reembolsados\n",
    "total_reembolsos = dataset['VALOR_REEMBOLSADO'].sum()\n",
    "\n",
    "# Criar o gráfico de barra\n",
    "fig = go.Figure(go.Bar(\n",
    "    x=['Total Reembolsos'],\n",
    "    y=[total_reembolsos],\n",
    "    text=[f\"R$ {abreviar_valor(total_reembolsos)}\"],\n",
    "    textposition='auto',\n",
    "))\n",
    "\n",
    "# Ajustar a apresentação do gráfico\n",
    "fig.update_layout(\n",
    "    title=\"Valor Total dos Reembolsos\",\n",
    "    yaxis_title=\"Valor Reembolsado Total (R$)\",\n",
    "    xaxis_title=\"\",\n",
    "    showlegend=False\n",
    ")\n",
    "\n",
    "# Exibir o gráfico\n",
    "fig.show()\n"
   ]
  },
  {
   "cell_type": "code",
   "execution_count": null,
   "metadata": {},
   "outputs": [],
   "source": [
    "# Extrair o ano da coluna 'DATA'\n",
    "dataset['ANO'] = dataset['DATA'].dt.year\n",
    "\n",
    "# Agrupar os dados por ano e calcular a soma dos valores reembolsados\n",
    "soma_ano = dataset.groupby('ANO')['VALOR_REEMBOLSADO'].sum().reset_index()\n",
    "\n",
    "# Função para abreviar os valores\n",
    "def abreviar_valor(val):\n",
    "    if val >= 1e6:\n",
    "        return f'{val/1e6:.1f}M'\n",
    "    elif val >= 1e3:\n",
    "        return f'{val/1e3:.1f}K'\n",
    "    return str(val)\n",
    "\n",
    "# Criar o gráfico\n",
    "plt.figure(figsize=(10, 6))\n",
    "bars = plt.bar(soma_ano['ANO'].astype(str), soma_ano['VALOR_REEMBOLSADO'], color='skyblue')\n",
    "\n",
    "# Adicionar rótulos com valores abreviados acima de cada barra\n",
    "for bar in bars:\n",
    "    yval = bar.get_height()\n",
    "    plt.text(bar.get_x() + bar.get_width()/2, yval, abreviar_valor(yval), va='bottom', ha='center')\n",
    "\n",
    "plt.xlabel('Ano')\n",
    "plt.ylabel('Valor Reembolsado')\n",
    "plt.title('Soma dos Reembolsos por Ano')\n",
    "plt.xticks(soma_ano['ANO'].astype(str))  # Configura explicitamente os rótulos do eixo X\n",
    "\n",
    "plt.tight_layout()\n",
    "plt.show()\n"
   ]
  },
  {
   "cell_type": "markdown",
   "metadata": {},
   "source": [
    "A seguir vamos ver a relação dos senadores com esses reembolsos."
   ]
  },
  {
   "cell_type": "code",
   "execution_count": null,
   "metadata": {},
   "outputs": [],
   "source": [
    "# Agrupar e somar por ano e senador\n",
    "df_agg = dataset.groupby(['SENADOR', 'ANO'])['VALOR_REEMBOLSADO'].sum().reset_index()\n",
    "\n",
    "# Selecionar os últimos 4 anos\n",
    "anos_disponiveis = sorted(df_agg['ANO'].unique())\n",
    "ultimos_4_anos = anos_disponiveis[-4:]\n",
    "\n",
    "# Filtrar apenas os últimos 4 anos\n",
    "df_ultimos_4 = df_agg[df_agg['ANO'].isin(ultimos_4_anos)]\n",
    "\n",
    "# Top 10 senadores por cada ano\n",
    "top_10_por_ano = df_ultimos_4.groupby('ANO', group_keys=False) \\\n",
    "                             .apply(lambda x: x.nlargest(10, 'VALOR_REEMBOLSADO')) \\\n",
    "                             .reset_index(drop=True)\n",
    "\n",
    "# Arredondar VALOR_REEMBOLSADO para 2 casas decimais\n",
    "top_10_por_ano['VALOR_REEMBOLSADO'] = top_10_por_ano['VALOR_REEMBOLSADO'].round(2)\n",
    "\n",
    "# Criar o gráfico com Plotly, um ano abaixo do outro\n",
    "# sharex=False garante que cada subplot terá seu próprio eixo X\n",
    "fig = px.bar(\n",
    "    top_10_por_ano,\n",
    "    x='SENADOR',\n",
    "    y='VALOR_REEMBOLSADO',\n",
    "    facet_row='ANO',\n",
    "    title='Top 10 Senadores por Ano (Últimos 4 Anos)',\n",
    "    height=1200,\n",
    "    facet_row_spacing=0.05,   # Ajuste o espaçamento vertical entre os subplots se necessário\n",
    ")\n",
    "\n",
    "# Manter os rótulos alinhados e legíveis\n",
    "fig.update_xaxes(tickangle=90, automargin=True)\n",
    "fig.update_yaxes(tickformat='.2f', automargin=True)\n",
    "\n",
    "# Desabilitar eixo X compartilhado para repetir os nomes de senadores em cada subplot\n",
    "fig.update_layout(\n",
    "    title_x=0.5,\n",
    "    showlegend=False,  # Caso não queira legenda repetida\n",
    ")\n",
    "\n",
    "# Mostrar o gráfico\n",
    "fig.show()\n"
   ]
  },
  {
   "cell_type": "markdown",
   "metadata": {},
   "source": [
    "Neste grafico vemos os vereadores que mais tiverem reembolsos entre os anos 2019 e 2022. Nesta disposição é possível identificar também os senadores que estiveram no top 10 nos 4 anos seguidos, sendo eles: MECIAS DE JESUS, ROGÉRIO CARVALHO e TELMÁRIO MOTA."
   ]
  },
  {
   "cell_type": "markdown",
   "metadata": {},
   "source": [
    "Vamos analisar esses três senadores em separado, para ver o montante dos reembolsos deles em relação ao total entre 2019 e 2022."
   ]
  },
  {
   "cell_type": "code",
   "execution_count": null,
   "metadata": {},
   "outputs": [],
   "source": [
    "# Nomes dos senadores de interesse\n",
    "senadores = ['MECIAS DE JESUS', 'ROGÉRIO CARVALHO', 'TELMÁRIO MOTA']\n",
    "\n",
    "# Filtrar os dados para esses senadores e somar os valores reembolsados\n",
    "soma_senadores = dataset[dataset['SENADOR'].isin(senadores)]['VALOR_REEMBOLSADO'].sum()\n",
    "\n",
    "# Converter VALOR_REEMBOLSADO para float, se ainda não está convertido\n",
    "dataset['VALOR_REEMBOLSADO'] = dataset['VALOR_REEMBOLSADO'].astype(float)\n",
    "\n",
    "# Calcular o total de VALOR_REEMBOLSADO no dataset\n",
    "total_reembolso = dataset['VALOR_REEMBOLSADO'].sum()\n",
    "\n",
    "# Calcular a porcentagem\n",
    "porcentagem = (soma_senadores / total_reembolso) * 100\n",
    "\n",
    "# Criar um gráfico de barras para mostrar a comparação\n",
    "fig, ax = plt.subplots(figsize=(8, 6))\n",
    "\n",
    "# Dados para o gráfico\n",
    "categorias = ['Selecionados', 'Total']\n",
    "valores = [soma_senadores, total_reembolso]\n",
    "\n",
    "ax.bar(categorias, valores, color=['blue', 'gray'])\n",
    "ax.set_ylabel('Valor Reembolsado')\n",
    "ax.set_title('Comparação de Reembolso: Senadores Selecionados vs Total')\n",
    "\n",
    "# Mostrar a porcentagem sobre a barra correspondente\n",
    "ax.text(0, soma_senadores, f'{porcentagem:.2f}%', ha='center', va='bottom', color='black')\n",
    "\n",
    "plt.tight_layout()\n",
    "plt.show()\n"
   ]
  },
  {
   "cell_type": "markdown",
   "metadata": {},
   "source": [
    "Agora uma pequena análise para saber quem foram os top 10 que mais receberam reembolsos nos 4 anos do dataset e quanto eles receberam."
   ]
  },
  {
   "cell_type": "code",
   "execution_count": null,
   "metadata": {},
   "outputs": [],
   "source": [
    "# Somar os reembolsos dos últimos 4 anos por senador utilizando a função para abreviar os valores\n",
    "df_4_anos = df_ultimos_4.groupby('SENADOR')['VALOR_REEMBOLSADO'].sum().reset_index()\n",
    "df_4_anos = df_4_anos.nlargest(10, 'VALOR_REEMBOLSADO')\n",
    "\n",
    "plt.figure(figsize=(8,6))\n",
    "ax = sns.barplot(\n",
    "    data=df_4_anos,\n",
    "    x='SENADOR',\n",
    "    y='VALOR_REEMBOLSADO'\n",
    ")\n",
    "\n",
    "# Adicionar os valores abreviados dentro de cada barra\n",
    "for p in ax.patches:\n",
    "    height = p.get_height()\n",
    "    valor_abreviado = abreviar_valor(height)\n",
    "    ax.annotate(valor_abreviado,\n",
    "                xy=(p.get_x() + p.get_width() / 2, height),\n",
    "                xytext=(0, 5),\n",
    "                textcoords='offset points',\n",
    "                ha='center', va='bottom',\n",
    "                color='black', fontsize=9)\n",
    "\n",
    "plt.xticks(rotation=90)\n",
    "plt.xlabel(\"Senador(a)\")\n",
    "plt.ylabel(\"Valor Reembolsado (Últimos 4 Anos)\")\n",
    "plt.title(\"Top 10 Senadores - Soma dos Últimos 4 Anos (Valores Abreviados)\")\n",
    "\n",
    "plt.tight_layout()\n",
    "plt.show()\n"
   ]
  },
  {
   "cell_type": "code",
   "execution_count": null,
   "metadata": {},
   "outputs": [],
   "source": [
    "# Filtrar os últimos 4 anos\n",
    "ultimos_4_anos = sorted(dataset['ANO'].unique())[-4:]\n",
    "\n",
    "# Somar reembolsos dos últimos 4 anos por senador\n",
    "df_4_anos = dataset[dataset['ANO'].isin(ultimos_4_anos)].groupby('SENADOR')['VALOR_REEMBOLSADO'].sum().reset_index()\n",
    "\n",
    "# Encontrar os top 10 senadores\n",
    "top_10_senadores = df_4_anos.nlargest(10, 'VALOR_REEMBOLSADO')\n",
    "\n",
    "# Calcular o total de reembolso\n",
    "total_reembolso = dataset['VALOR_REEMBOLSADO'].sum()\n",
    "\n",
    "# Calcular o reembolso dos top 10 senadores como uma porção do total\n",
    "top_10_total = top_10_senadores['VALOR_REEMBOLSADO'].sum()\n",
    "outros = total_reembolso - top_10_total\n",
    "\n",
    "# Criar gráfico de pizza\n",
    "plt.figure(figsize=(8, 8))\n",
    "somas = [top_10_total, outros]\n",
    "labels = ['Top 10 Senadores', 'Outros Senadores']\n",
    "colors = ['orange', 'skyblue']\n",
    "explode = (0.1, 0)  # 'explode' a slice if you want to highlight it\n",
    "\n",
    "plt.pie(somas, labels=[f\"{lab}: {abreviar_valor(val)}\" for lab, val in zip(labels, somas)], colors=colors, autopct='%1.1f%%', startangle=140, explode=explode)\n",
    "plt.title('Percentual dos Top 10 Senadores nos Reembolsos Totais')\n",
    "plt.axis('equal')  # Equal aspect ratio ensures that pie is drawn as a circle.\n",
    "\n",
    "plt.show()\n"
   ]
  },
  {
   "cell_type": "markdown",
   "metadata": {},
   "source": [
    "Neste gráfico vemos que apenas 10 senadores gastaram praticamente 1/5 do valor total reembolsado para os 159 senadores."
   ]
  },
  {
   "cell_type": "code",
   "execution_count": null,
   "metadata": {},
   "outputs": [],
   "source": [
    "# Criar dataset sem outliers\n",
    "dataset_sem_outliers = dataset.drop(outliers.index)\n",
    "\n",
    "# Verificar o tamanho do dataset antes e depois\n",
    "print(f\"Tamanho original do dataset: {len(dataset)}\")\n",
    "print(f\"Tamanho do dataset sem outliers: {len(dataset_sem_outliers)}\")\n"
   ]
  },
  {
   "cell_type": "code",
   "execution_count": null,
   "metadata": {},
   "outputs": [],
   "source": [
    "# Garantir que o dataset tem a coluna 'ANO' e 'VALOR_REEMBOLSADO'\n",
    "# Criar a série temporal agrupando os dados por ANO\n",
    "# dataset['ANO'] = pd.to_datetime(dataset['DATA'], errors='coerce').dt.year\n",
    "dados_serie = dataset.groupby('ANO')['VALOR_REEMBOLSADO'].sum()\n",
    "\n",
    "# Garantir que o índice da série está no formato datetime (opcional)\n",
    "dados_serie.index = pd.to_datetime(dados_serie.index, format='%Y')\n",
    "\n",
    "# Exibir a série para verificar se está correta\n",
    "print(dados_serie)\n"
   ]
  },
  {
   "cell_type": "code",
   "execution_count": null,
   "metadata": {},
   "outputs": [],
   "source": [
    "# Definir os anos considerados outliers\n",
    "outliers_anos = [2020]\n",
    "\n",
    "# Filtrar os dados para excluir os anos atípicos\n",
    "dados_sem_outliers = dados_serie[~dados_serie.index.year.isin(outliers_anos)]\n",
    "\n",
    "# Verificar os dados filtrados\n",
    "print(dados_sem_outliers)\n"
   ]
  },
  {
   "cell_type": "code",
   "execution_count": null,
   "metadata": {},
   "outputs": [],
   "source": [
    "# Ajustar o modelo ARIMA sem os anos atípicos\n",
    "modelo_sem_outliers = ARIMA(dados_sem_outliers, order=(1, 1, 1))\n",
    "modelo_ajustado_sem_outliers = modelo_sem_outliers.fit()\n",
    "\n",
    "# Fazer previsões\n",
    "previsoes_sem_outliers = modelo_ajustado_sem_outliers.forecast(steps=3)\n",
    "\n",
    "# Visualizar as previsões\n",
    "print(f\"Previsões sem os anos atípicos:\\n{previsoes_sem_outliers}\")\n"
   ]
  },
  {
   "cell_type": "code",
   "execution_count": null,
   "metadata": {},
   "outputs": [],
   "source": [
    "# Agrupar os valores reembolsados por ano\n",
    "soma_ano = dataset.groupby('ANO')['VALOR_REEMBOLSADO'].sum().reset_index()\n",
    "\n",
    "# Garantir que todos os anos estão no dataset, incluindo 2020\n",
    "dados_reais = soma_ano.set_index('ANO')['VALOR_REEMBOLSADO']\n",
    "\n",
    "# Previsões geradas pelo modelo (ajuste para 3 passos: 2023, 2024 e 2025)\n",
    "forecast_result = modelo_ajustado_sem_outliers.get_forecast(steps=3)\n",
    "\n",
    "# Obter as previsões e os intervalos de confiança\n",
    "previsoes = forecast_result.predicted_mean\n",
    "intervalo_confianca = forecast_result.conf_int()\n",
    "\n",
    "# Criar índice para os anos das previsões\n",
    "anos_futuros = [2023, 2024, 2025]\n",
    "\n",
    "# Criar um DataFrame para as previsões\n",
    "previsoes_df = pd.DataFrame({\n",
    "    'ANO': anos_futuros,\n",
    "    'VALOR_PREVISTO': previsoes.values\n",
    "}).set_index('ANO')\n",
    "\n",
    "# Adicionar os intervalos de confiança ao DataFrame\n",
    "previsoes_df['IC_INFERIOR'] = intervalo_confianca.iloc[:, 0].values\n",
    "previsoes_df['IC_SUPERIOR'] = intervalo_confianca.iloc[:, 1].values\n",
    "\n",
    "# Converter valores para milhões\n",
    "dados_reais_milhoes = dados_reais / 1_000_000\n",
    "previsoes_df_milhoes = previsoes_df / 1_000_000\n",
    "soma_ano['VALOR_REEMBOLSADO'] = soma_ano['VALOR_REEMBOLSADO'] / 1_000_000  # Convertendo para milhões\n",
    "\n",
    "# Plotar os dados reais e as previsões com margens de erro\n",
    "plt.figure(figsize=(10, 6))\n",
    "\n",
    "# Linha dos dados reais\n",
    "plt.plot(dados_reais_milhoes.index, dados_reais_milhoes.values, label='Dados Reais', marker='o')\n",
    "\n",
    "# Linha das previsões\n",
    "plt.plot(previsoes_df_milhoes.index, previsoes_df_milhoes['VALOR_PREVISTO'], label='Previsões', linestyle='--', marker='x', color='red')\n",
    "\n",
    "# Preencher área das margens de erro\n",
    "plt.fill_between(previsoes_df_milhoes.index,\n",
    "                 previsoes_df_milhoes['IC_INFERIOR'],\n",
    "                 previsoes_df_milhoes['IC_SUPERIOR'],\n",
    "                 color='red', alpha=0.2, label='Intervalo de Confiança')\n",
    "\n",
    "# Adicionar título e rótulos\n",
    "plt.title('Previsões Incluindo o Ano 2020 (ARIMA) com Margens de Erro', fontsize=14)\n",
    "plt.xlabel('Ano', fontsize=12)\n",
    "plt.ylabel('Valor Reembolsado (em Milhões de R$)', fontsize=12)\n",
    "\n",
    "# Adicionar legenda\n",
    "plt.legend()\n",
    "\n",
    "# Mostrar o gráfico\n",
    "plt.grid(True)\n",
    "plt.show()\n",
    "\n",
    "# Exibir os valores reais, previsões e soma_ano\n",
    "print(\"\\nValores Reais (em Milhões de R$):\")\n",
    "print(dados_reais_milhoes)\n",
    "\n",
    "print(\"\\nPrevisões (em Milhões de R$):\")\n",
    "print(previsoes_df_milhoes)\n"
   ]
  }
 ],
 "metadata": {
  "kernelspec": {
   "display_name": "base",
   "language": "python",
   "name": "python3"
  },
  "language_info": {
   "codemirror_mode": {
    "name": "ipython",
    "version": 3
   },
   "file_extension": ".py",
   "mimetype": "text/x-python",
   "name": "python",
   "nbconvert_exporter": "python",
   "pygments_lexer": "ipython3",
   "version": "3.12.2"
  }
 },
 "nbformat": 4,
 "nbformat_minor": 2
}
