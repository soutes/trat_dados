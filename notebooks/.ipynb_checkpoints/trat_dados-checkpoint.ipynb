{
 "cells": [
  {
   "cell_type": "markdown",
   "metadata": {},
   "source": [
    "Este projeto visa a aplicação de técnicas de tratamento de dados utilizando os dados do portal CEAPS, que contém informações sobre os gastos dos senadores brasileiros. \n",
    "\n",
    "As tarefas executadas incluem a identificação de inconsistências nos dados, como valores nulos e duplicados, a correção de campos monetários e a conversão de datas em formatos adequados. \n",
    "\n",
    "O objetivo é preparar os dados para análises mais aprofundadas, garantindo a qualidade e a integridade das informações."
   ]
  },
  {
   "cell_type": "code",
   "execution_count": 1,
   "metadata": {},
   "outputs": [],
   "source": [
    "import pandas as pd\n",
    "import numpy as np\n",
    "import seaborn as sns\n",
    "import matplotlib.pyplot as plt\n",
    "import plotly.express as px\n",
    "import plotly.graph_objects as go\n",
    "from sklearn.linear_model import LinearRegression\n",
    "from statsmodels.tsa.arima.model import ARIMA\n",
    "from sklearn.metrics import mean_absolute_error, mean_squared_error\n",
    "import requests\n",
    "import time"
   ]
  },
  {
   "cell_type": "markdown",
   "metadata": {},
   "source": [
    "1. Construção do dataframe"
   ]
  },
  {
   "cell_type": "code",
   "execution_count": 2,
   "metadata": {},
   "outputs": [],
   "source": [
    "arquivos = ['../docs/despesa_ceaps_2019.csv', '../docs/despesa_ceaps_2020.csv', '../docs/despesa_ceaps_2021.csv', '../docs/despesa_ceaps_2022.csv']\n",
    "dataframes = []\n",
    "for arquivo in arquivos:\n",
    "    df = pd.read_csv(arquivo, header=1)  \n",
    "    dataframes.append(df)\n",
    "dataset = pd.concat(dataframes, ignore_index=True)"
   ]
  },
  {
   "cell_type": "markdown",
   "metadata": {},
   "source": [
    "2. Visualização dos dados"
   ]
  },
  {
   "cell_type": "code",
   "execution_count": 3,
   "metadata": {},
   "outputs": [
    {
     "data": {
      "text/html": [
       "<div>\n",
       "<style scoped>\n",
       "    .dataframe tbody tr th:only-of-type {\n",
       "        vertical-align: middle;\n",
       "    }\n",
       "\n",
       "    .dataframe tbody tr th {\n",
       "        vertical-align: top;\n",
       "    }\n",
       "\n",
       "    .dataframe thead th {\n",
       "        text-align: right;\n",
       "    }\n",
       "</style>\n",
       "<table border=\"1\" class=\"dataframe\">\n",
       "  <thead>\n",
       "    <tr style=\"text-align: right;\">\n",
       "      <th></th>\n",
       "      <th>ANO</th>\n",
       "      <th>MES</th>\n",
       "      <th>SENADOR</th>\n",
       "      <th>TIPO_DESPESA</th>\n",
       "      <th>CNPJ_CPF</th>\n",
       "      <th>FORNECEDOR</th>\n",
       "      <th>DOCUMENTO</th>\n",
       "      <th>DATA</th>\n",
       "      <th>DETALHAMENTO</th>\n",
       "      <th>VALOR_REEMBOLSADO</th>\n",
       "      <th>COD_DOCUMENTO</th>\n",
       "    </tr>\n",
       "  </thead>\n",
       "  <tbody>\n",
       "    <tr>\n",
       "      <th>0</th>\n",
       "      <td>2019</td>\n",
       "      <td>1</td>\n",
       "      <td>ACIR GURGACZ</td>\n",
       "      <td>Aluguel de imóveis para escritório político, c...</td>\n",
       "      <td>05.914.650/0001-66</td>\n",
       "      <td>ENERGISA</td>\n",
       "      <td>6582758</td>\n",
       "      <td>04/01/2019</td>\n",
       "      <td>Despesa com pagamento de energia elétrica do e...</td>\n",
       "      <td>66,02</td>\n",
       "      <td>2116543.0</td>\n",
       "    </tr>\n",
       "    <tr>\n",
       "      <th>1</th>\n",
       "      <td>2019</td>\n",
       "      <td>1</td>\n",
       "      <td>ACIR GURGACZ</td>\n",
       "      <td>Aluguel de imóveis para escritório político, c...</td>\n",
       "      <td>05.914.650/0001-66</td>\n",
       "      <td>ENERGISA</td>\n",
       "      <td>6582755</td>\n",
       "      <td>04/01/2019</td>\n",
       "      <td>Despesa com pagamento de energia elétrica do e...</td>\n",
       "      <td>139,98</td>\n",
       "      <td>2116546.0</td>\n",
       "    </tr>\n",
       "    <tr>\n",
       "      <th>2</th>\n",
       "      <td>2019</td>\n",
       "      <td>1</td>\n",
       "      <td>ACIR GURGACZ</td>\n",
       "      <td>Aluguel de imóveis para escritório político, c...</td>\n",
       "      <td>004.948.028-63</td>\n",
       "      <td>GILBERTO PISELO DO NASCIMENTO</td>\n",
       "      <td>119</td>\n",
       "      <td>07/01/2019</td>\n",
       "      <td>Despesa com pagamento de aluguel de imóvel par...</td>\n",
       "      <td>6000</td>\n",
       "      <td>2113817.0</td>\n",
       "    </tr>\n",
       "    <tr>\n",
       "      <th>3</th>\n",
       "      <td>2019</td>\n",
       "      <td>1</td>\n",
       "      <td>ACIR GURGACZ</td>\n",
       "      <td>Aluguel de imóveis para escritório político, c...</td>\n",
       "      <td>05.423.963/0001-11</td>\n",
       "      <td>OI MÓVEL S.A.</td>\n",
       "      <td>86161151</td>\n",
       "      <td>25/12/2018</td>\n",
       "      <td>Despesa com pagamento de telefonia para o escr...</td>\n",
       "      <td>316,39</td>\n",
       "      <td>2116541.0</td>\n",
       "    </tr>\n",
       "    <tr>\n",
       "      <th>4</th>\n",
       "      <td>2019</td>\n",
       "      <td>2</td>\n",
       "      <td>ACIR GURGACZ</td>\n",
       "      <td>Aluguel de imóveis para escritório político, c...</td>\n",
       "      <td>05.914.650/0001-66</td>\n",
       "      <td>ENERGISA</td>\n",
       "      <td>7236036</td>\n",
       "      <td>04/02/2019</td>\n",
       "      <td>Despesa com pagamento de energia elétrica para...</td>\n",
       "      <td>99,45</td>\n",
       "      <td>2116550.0</td>\n",
       "    </tr>\n",
       "  </tbody>\n",
       "</table>\n",
       "</div>"
      ],
      "text/plain": [
       "    ANO  MES       SENADOR                                       TIPO_DESPESA  \\\n",
       "0  2019    1  ACIR GURGACZ  Aluguel de imóveis para escritório político, c...   \n",
       "1  2019    1  ACIR GURGACZ  Aluguel de imóveis para escritório político, c...   \n",
       "2  2019    1  ACIR GURGACZ  Aluguel de imóveis para escritório político, c...   \n",
       "3  2019    1  ACIR GURGACZ  Aluguel de imóveis para escritório político, c...   \n",
       "4  2019    2  ACIR GURGACZ  Aluguel de imóveis para escritório político, c...   \n",
       "\n",
       "             CNPJ_CPF                     FORNECEDOR DOCUMENTO        DATA  \\\n",
       "0  05.914.650/0001-66                       ENERGISA   6582758  04/01/2019   \n",
       "1  05.914.650/0001-66                       ENERGISA   6582755  04/01/2019   \n",
       "2      004.948.028-63  GILBERTO PISELO DO NASCIMENTO       119  07/01/2019   \n",
       "3  05.423.963/0001-11                  OI MÓVEL S.A.  86161151  25/12/2018   \n",
       "4  05.914.650/0001-66                       ENERGISA   7236036  04/02/2019   \n",
       "\n",
       "                                        DETALHAMENTO VALOR_REEMBOLSADO  \\\n",
       "0  Despesa com pagamento de energia elétrica do e...             66,02   \n",
       "1  Despesa com pagamento de energia elétrica do e...            139,98   \n",
       "2  Despesa com pagamento de aluguel de imóvel par...              6000   \n",
       "3  Despesa com pagamento de telefonia para o escr...            316,39   \n",
       "4  Despesa com pagamento de energia elétrica para...             99,45   \n",
       "\n",
       "   COD_DOCUMENTO  \n",
       "0      2116543.0  \n",
       "1      2116546.0  \n",
       "2      2113817.0  \n",
       "3      2116541.0  \n",
       "4      2116550.0  "
      ]
     },
     "execution_count": 3,
     "metadata": {},
     "output_type": "execute_result"
    }
   ],
   "source": [
    "# Preview do dataframe (5 primeiras linhas)\n",
    "dataset.head()"
   ]
  },
  {
   "cell_type": "code",
   "execution_count": 4,
   "metadata": {},
   "outputs": [
    {
     "data": {
      "text/plain": [
       "(69356, 11)"
      ]
     },
     "execution_count": 4,
     "metadata": {},
     "output_type": "execute_result"
    }
   ],
   "source": [
    "# Tamanho do dataframe\n",
    "dataset.shape"
   ]
  },
  {
   "cell_type": "code",
   "execution_count": 5,
   "metadata": {},
   "outputs": [
    {
     "name": "stdout",
     "output_type": "stream",
     "text": [
      "Index(['ANO', 'MES', 'SENADOR', 'TIPO_DESPESA', 'CNPJ_CPF', 'FORNECEDOR',\n",
      "       'DOCUMENTO', 'DATA', 'DETALHAMENTO', 'VALOR_REEMBOLSADO',\n",
      "       'COD_DOCUMENTO'],\n",
      "      dtype='object')\n"
     ]
    }
   ],
   "source": [
    "# Nome das variáveis\n",
    "print(dataset.columns)"
   ]
  },
  {
   "cell_type": "code",
   "execution_count": 6,
   "metadata": {},
   "outputs": [
    {
     "name": "stdout",
     "output_type": "stream",
     "text": [
      "ANO                    int64\n",
      "MES                    int64\n",
      "SENADOR               object\n",
      "TIPO_DESPESA          object\n",
      "CNPJ_CPF              object\n",
      "FORNECEDOR            object\n",
      "DOCUMENTO             object\n",
      "DATA                  object\n",
      "DETALHAMENTO          object\n",
      "VALOR_REEMBOLSADO     object\n",
      "COD_DOCUMENTO        float64\n",
      "dtype: object\n"
     ]
    }
   ],
   "source": [
    "# Tipos das variáveis\n",
    "print(dataset.dtypes)"
   ]
  },
  {
   "cell_type": "code",
   "execution_count": 7,
   "metadata": {},
   "outputs": [
    {
     "name": "stdout",
     "output_type": "stream",
     "text": [
      "[2019 2020 2021 2022]\n"
     ]
    }
   ],
   "source": [
    "#Conferência se estão os dados dos 4 anos importados no csv\n",
    "print(dataset['ANO'].unique())"
   ]
  },
  {
   "cell_type": "markdown",
   "metadata": {},
   "source": [
    "3. Tratamento dos dados nulos"
   ]
  },
  {
   "cell_type": "code",
   "execution_count": 8,
   "metadata": {},
   "outputs": [
    {
     "data": {
      "text/plain": [
       "ANO                      0\n",
       "MES                      0\n",
       "SENADOR                  0\n",
       "TIPO_DESPESA             0\n",
       "CNPJ_CPF                 0\n",
       "FORNECEDOR               0\n",
       "DOCUMENTO             2963\n",
       "DATA                     0\n",
       "DETALHAMENTO         30773\n",
       "VALOR_REEMBOLSADO        0\n",
       "COD_DOCUMENTO            1\n",
       "dtype: int64"
      ]
     },
     "execution_count": 8,
     "metadata": {},
     "output_type": "execute_result"
    }
   ],
   "source": [
    "#Contagem dos nulos\n",
    "dataset.isnull().sum()"
   ]
  },
  {
   "cell_type": "markdown",
   "metadata": {},
   "source": [
    "Agora ficou claro que existem dados faltantes nas variáveis DOCUMENTO, DETALHAMENTO e COD_DOCUMENTO. A seguir sera feita uma análise de cada variável para decidir como proceder nos casos dos dados faltantes."
   ]
  },
  {
   "cell_type": "code",
   "execution_count": 9,
   "metadata": {},
   "outputs": [
    {
     "name": "stdout",
     "output_type": "stream",
     "text": [
      "Valores únicos na coluna DOCUMENTO:\n",
      "['6582758' '6582755' '119' ... 'THPKVQ' 'QNN9HX' 'WMQWBX']\n",
      "Frequência de cada valor na coluna DOCUMENTO:\n",
      "DOCUMENTO\n",
      "S/N       303\n",
      "s/n       286\n",
      "1         113\n",
      "6          99\n",
      "5          98\n",
      "         ... \n",
      "CJLSTH      1\n",
      "HW3SFQ      1\n",
      "FIFR9C      1\n",
      "QGCXIJ      1\n",
      "WMQWBX      1\n",
      "Name: count, Length: 51753, dtype: int64\n"
     ]
    }
   ],
   "source": [
    "# Exibir os valores únicos na coluna DOCUMENTO\n",
    "print(\"Valores únicos na coluna DOCUMENTO:\")\n",
    "print(dataset['DOCUMENTO'].unique())\n",
    "\n",
    "# Contar a frequência de cada valor na coluna DOCUMENTO\n",
    "print(\"Frequência de cada valor na coluna DOCUMENTO:\")\n",
    "print(dataset['DOCUMENTO'].value_counts())"
   ]
  },
  {
   "cell_type": "markdown",
   "metadata": {},
   "source": [
    "Os dados contidos nesta variável trazem informações vagas sobre qual seria o documento. Porem o mesmo não segue um padrão e tem vários dados faltantes. Sabendo disso, podemos afirmar que esta variável não é relevante para este projeto."
   ]
  },
  {
   "cell_type": "code",
   "execution_count": 10,
   "metadata": {},
   "outputs": [
    {
     "data": {
      "text/html": [
       "<div>\n",
       "<style scoped>\n",
       "    .dataframe tbody tr th:only-of-type {\n",
       "        vertical-align: middle;\n",
       "    }\n",
       "\n",
       "    .dataframe tbody tr th {\n",
       "        vertical-align: top;\n",
       "    }\n",
       "\n",
       "    .dataframe thead th {\n",
       "        text-align: right;\n",
       "    }\n",
       "</style>\n",
       "<table border=\"1\" class=\"dataframe\">\n",
       "  <thead>\n",
       "    <tr style=\"text-align: right;\">\n",
       "      <th></th>\n",
       "      <th>ANO</th>\n",
       "      <th>MES</th>\n",
       "      <th>SENADOR</th>\n",
       "      <th>TIPO_DESPESA</th>\n",
       "      <th>CNPJ_CPF</th>\n",
       "      <th>FORNECEDOR</th>\n",
       "      <th>DOCUMENTO</th>\n",
       "      <th>DATA</th>\n",
       "      <th>DETALHAMENTO</th>\n",
       "      <th>VALOR_REEMBOLSADO</th>\n",
       "      <th>COD_DOCUMENTO</th>\n",
       "    </tr>\n",
       "  </thead>\n",
       "  <tbody>\n",
       "    <tr>\n",
       "      <th>230</th>\n",
       "      <td>2019</td>\n",
       "      <td>5</td>\n",
       "      <td>ALESSANDRO VIEIRA</td>\n",
       "      <td>Contratação de consultorias, assessorias, pesq...</td>\n",
       "      <td>29.419.841/0001-10</td>\n",
       "      <td>INOVAÇÕES VISUAIS MDLUX</td>\n",
       "      <td>14</td>\n",
       "      <td>08/05/2019</td>\n",
       "      <td>NaN</td>\n",
       "      <td>380</td>\n",
       "      <td>2126193.0</td>\n",
       "    </tr>\n",
       "    <tr>\n",
       "      <th>465</th>\n",
       "      <td>2019</td>\n",
       "      <td>12</td>\n",
       "      <td>ALESSANDRO VIEIRA</td>\n",
       "      <td>Locomoção, hospedagem, alimentação, combustíve...</td>\n",
       "      <td>10.898.850/0001-02</td>\n",
       "      <td>RSA COMERCIO DE ALIMENTOS LTDA ME</td>\n",
       "      <td>55138</td>\n",
       "      <td>16/12/2019</td>\n",
       "      <td>NaN</td>\n",
       "      <td>11,24</td>\n",
       "      <td>2137809.0</td>\n",
       "    </tr>\n",
       "    <tr>\n",
       "      <th>470</th>\n",
       "      <td>2019</td>\n",
       "      <td>12</td>\n",
       "      <td>ALESSANDRO VIEIRA</td>\n",
       "      <td>Locomoção, hospedagem, alimentação, combustíve...</td>\n",
       "      <td>33.469.172/0022-92</td>\n",
       "      <td>SENAC</td>\n",
       "      <td>26458</td>\n",
       "      <td>17/12/2019</td>\n",
       "      <td>NaN</td>\n",
       "      <td>16,89</td>\n",
       "      <td>2137813.0</td>\n",
       "    </tr>\n",
       "    <tr>\n",
       "      <th>516</th>\n",
       "      <td>2019</td>\n",
       "      <td>4</td>\n",
       "      <td>ALVARO DIAS</td>\n",
       "      <td>Locomoção, hospedagem, alimentação, combustíve...</td>\n",
       "      <td>07.686.368/0001-02</td>\n",
       "      <td>WTC - Sheraton</td>\n",
       "      <td>383536</td>\n",
       "      <td>29/04/2019</td>\n",
       "      <td>NaN</td>\n",
       "      <td>567</td>\n",
       "      <td>2121761.0</td>\n",
       "    </tr>\n",
       "    <tr>\n",
       "      <th>609</th>\n",
       "      <td>2019</td>\n",
       "      <td>1</td>\n",
       "      <td>ÂNGELA PORTELA</td>\n",
       "      <td>Divulgação da atividade parlamentar</td>\n",
       "      <td>84.017.888/0001-65</td>\n",
       "      <td>FORBRAS RORAIMA LTDA</td>\n",
       "      <td>23921</td>\n",
       "      <td>09/01/2019</td>\n",
       "      <td>NaN</td>\n",
       "      <td>4998</td>\n",
       "      <td>2112900.0</td>\n",
       "    </tr>\n",
       "  </tbody>\n",
       "</table>\n",
       "</div>"
      ],
      "text/plain": [
       "      ANO  MES            SENADOR  \\\n",
       "230  2019    5  ALESSANDRO VIEIRA   \n",
       "465  2019   12  ALESSANDRO VIEIRA   \n",
       "470  2019   12  ALESSANDRO VIEIRA   \n",
       "516  2019    4        ALVARO DIAS   \n",
       "609  2019    1     ÂNGELA PORTELA   \n",
       "\n",
       "                                          TIPO_DESPESA            CNPJ_CPF  \\\n",
       "230  Contratação de consultorias, assessorias, pesq...  29.419.841/0001-10   \n",
       "465  Locomoção, hospedagem, alimentação, combustíve...  10.898.850/0001-02   \n",
       "470  Locomoção, hospedagem, alimentação, combustíve...  33.469.172/0022-92   \n",
       "516  Locomoção, hospedagem, alimentação, combustíve...  07.686.368/0001-02   \n",
       "609                Divulgação da atividade parlamentar  84.017.888/0001-65   \n",
       "\n",
       "                            FORNECEDOR DOCUMENTO        DATA DETALHAMENTO  \\\n",
       "230            INOVAÇÕES VISUAIS MDLUX        14  08/05/2019          NaN   \n",
       "465  RSA COMERCIO DE ALIMENTOS LTDA ME     55138  16/12/2019          NaN   \n",
       "470                              SENAC     26458  17/12/2019          NaN   \n",
       "516                     WTC - Sheraton    383536  29/04/2019          NaN   \n",
       "609               FORBRAS RORAIMA LTDA     23921  09/01/2019          NaN   \n",
       "\n",
       "    VALOR_REEMBOLSADO  COD_DOCUMENTO  \n",
       "230               380      2126193.0  \n",
       "465             11,24      2137809.0  \n",
       "470             16,89      2137813.0  \n",
       "516               567      2121761.0  \n",
       "609              4998      2112900.0  "
      ]
     },
     "execution_count": 10,
     "metadata": {},
     "output_type": "execute_result"
    }
   ],
   "source": [
    "dataset[dataset['DETALHAMENTO'].isna()].head(5)"
   ]
  },
  {
   "cell_type": "markdown",
   "metadata": {},
   "source": [
    "A variável DETALHAMENTO segue o mesmo mencionado para DOCUMENTO. Pelo mesmo motivo, também sera removida."
   ]
  },
  {
   "cell_type": "code",
   "execution_count": 11,
   "metadata": {},
   "outputs": [
    {
     "name": "stdout",
     "output_type": "stream",
     "text": [
      "Index(['ANO', 'MES', 'SENADOR', 'TIPO_DESPESA', 'CNPJ_CPF', 'FORNECEDOR',\n",
      "       'DATA', 'VALOR_REEMBOLSADO', 'COD_DOCUMENTO'],\n",
      "      dtype='object')\n"
     ]
    }
   ],
   "source": [
    "dataset = dataset.drop(columns=['DOCUMENTO', 'DETALHAMENTO'])\n",
    "\n",
    "#Checagem após a exclusão das variáveis\n",
    "print(dataset.columns)"
   ]
  },
  {
   "cell_type": "code",
   "execution_count": 12,
   "metadata": {},
   "outputs": [
    {
     "data": {
      "text/plain": [
       "SENADOR\n",
       "CARLOS VIANA           2136\n",
       "JAQUES WAGNER          2077\n",
       "WELLINGTON FAGUNDES    1976\n",
       "HUMBERTO COSTA         1930\n",
       "PAULO PAIM             1867\n",
       "                       ... \n",
       "HÉLIO JOSÉ                3\n",
       "JOÃO ALBERTO SOUZA        3\n",
       "EDISON LOBÃO              2\n",
       "NAILDE PANTA              1\n",
       "VICENTINHO ALVES          1\n",
       "Name: count, Length: 159, dtype: int64"
      ]
     },
     "execution_count": 12,
     "metadata": {},
     "output_type": "execute_result"
    }
   ],
   "source": [
    "#Distribuição dos dados na variável Senador\n",
    "dataset['SENADOR'].value_counts()"
   ]
  },
  {
   "cell_type": "markdown",
   "metadata": {},
   "source": [
    "Temos 159 senadores, sendo que o Carlos Viana é o que aparece com mais registros."
   ]
  },
  {
   "cell_type": "code",
   "execution_count": 13,
   "metadata": {},
   "outputs": [
    {
     "data": {
      "text/plain": [
       "COD_DOCUMENTO\n",
       "2116543.0    1\n",
       "2165798.0    1\n",
       "2163541.0    1\n",
       "2163536.0    1\n",
       "2163539.0    1\n",
       "            ..\n",
       "2151001.0    1\n",
       "2149627.0    1\n",
       "2149928.0    1\n",
       "2149929.0    1\n",
       "2193622.0    1\n",
       "Name: count, Length: 69355, dtype: int64"
      ]
     },
     "execution_count": 13,
     "metadata": {},
     "output_type": "execute_result"
    }
   ],
   "source": [
    "dataset['COD_DOCUMENTO'].value_counts()"
   ]
  },
  {
   "cell_type": "code",
   "execution_count": 14,
   "metadata": {},
   "outputs": [],
   "source": [
    "#Como temos apenas 1 registro nulo na variável COD_DOCUMENTO, esta sera removida\n",
    "dataset = dataset.dropna(subset=['COD_DOCUMENTO'])"
   ]
  },
  {
   "cell_type": "code",
   "execution_count": 15,
   "metadata": {},
   "outputs": [],
   "source": [
    "# Esta variável é uma informação do tipo texto e não numerica como consta. Para esta não comprometar futuras visualizações dos dados, o correto é converter a mesma para string\n",
    "dataset['COD_DOCUMENTO'] = dataset['COD_DOCUMENTO'].astype(str)\n"
   ]
  },
  {
   "cell_type": "code",
   "execution_count": 16,
   "metadata": {},
   "outputs": [
    {
     "data": {
      "text/plain": [
       "ANO                  0\n",
       "MES                  0\n",
       "SENADOR              0\n",
       "TIPO_DESPESA         0\n",
       "CNPJ_CPF             0\n",
       "FORNECEDOR           0\n",
       "DATA                 0\n",
       "VALOR_REEMBOLSADO    0\n",
       "COD_DOCUMENTO        0\n",
       "dtype: int64"
      ]
     },
     "execution_count": 16,
     "metadata": {},
     "output_type": "execute_result"
    }
   ],
   "source": [
    "#Checagem dos dados faltantes:\n",
    "dataset.isnull().sum()"
   ]
  },
  {
   "cell_type": "markdown",
   "metadata": {},
   "source": [
    "4. Tratamento da coluna ANO"
   ]
  },
  {
   "cell_type": "markdown",
   "metadata": {},
   "source": [
    "Há um erro de registro nas datas. Antes de converter essa string em date, é preciso corrigir esse erro."
   ]
  },
  {
   "cell_type": "code",
   "execution_count": 17,
   "metadata": {},
   "outputs": [
    {
     "name": "stdout",
     "output_type": "stream",
     "text": [
      "Quantidade de vezes que aparece '/02' quando deveria ser '/20' no lugar do ano: 3\n"
     ]
    }
   ],
   "source": [
    "# Contagem de quantas vezes o ano esta escrito de forma errada:\n",
    "mascara = dataset['DATA'].str.contains(r'/02\\d{2}', na=False)\n",
    "\n",
    "quantidade = mascara.sum()\n",
    "\n",
    "print(\"Quantidade de vezes que aparece '/02' quando deveria ser '/20' no lugar do ano:\", quantidade)\n"
   ]
  },
  {
   "cell_type": "code",
   "execution_count": 18,
   "metadata": {},
   "outputs": [],
   "source": [
    "# Substituição de todos os registros errado nos anos:\n",
    "dataset['DATA'] = dataset['DATA'].str.replace(r'/02(\\d{2})$', r'/20\\1', regex=True)"
   ]
  },
  {
   "cell_type": "code",
   "execution_count": 19,
   "metadata": {},
   "outputs": [],
   "source": [
    "dataset['DATA'] = pd.to_datetime(dataset['DATA'], format='%d/%m/%Y')"
   ]
  },
  {
   "cell_type": "code",
   "execution_count": 20,
   "metadata": {},
   "outputs": [
    {
     "name": "stdout",
     "output_type": "stream",
     "text": [
      "ANO                           int64\n",
      "MES                           int64\n",
      "SENADOR                      object\n",
      "TIPO_DESPESA                 object\n",
      "CNPJ_CPF                     object\n",
      "FORNECEDOR                   object\n",
      "DATA                 datetime64[ns]\n",
      "VALOR_REEMBOLSADO            object\n",
      "COD_DOCUMENTO                object\n",
      "dtype: object\n"
     ]
    }
   ],
   "source": [
    "# Checagem das variáveis\n",
    "print(dataset.dtypes)"
   ]
  },
  {
   "cell_type": "markdown",
   "metadata": {},
   "source": [
    "5. Inspeção da variável VALOR_REEMBOLSADO"
   ]
  },
  {
   "cell_type": "code",
   "execution_count": 21,
   "metadata": {},
   "outputs": [],
   "source": [
    "#Substituição da vírgula para ponto, e em seguida a conversão de string para float\n",
    "dataset['VALOR_REEMBOLSADO'] = dataset['VALOR_REEMBOLSADO'].str.replace(',', '.')\n",
    "dataset['VALOR_REEMBOLSADO'] = dataset['VALOR_REEMBOLSADO'].astype(float)\n"
   ]
  },
  {
   "cell_type": "code",
   "execution_count": 22,
   "metadata": {},
   "outputs": [
    {
     "name": "stdout",
     "output_type": "stream",
     "text": [
      "ANO                           int64\n",
      "MES                           int64\n",
      "SENADOR                      object\n",
      "TIPO_DESPESA                 object\n",
      "CNPJ_CPF                     object\n",
      "FORNECEDOR                   object\n",
      "DATA                 datetime64[ns]\n",
      "VALOR_REEMBOLSADO           float64\n",
      "COD_DOCUMENTO                object\n",
      "dtype: object\n"
     ]
    }
   ],
   "source": [
    "# Checagem das variáveis\n",
    "print(dataset.dtypes)"
   ]
  },
  {
   "cell_type": "markdown",
   "metadata": {},
   "source": [
    "6. Visualização dos dados"
   ]
  },
  {
   "cell_type": "markdown",
   "metadata": {},
   "source": [
    "Já que temos os dados prontos para uma breve analise, veja alguns dados e gráficos a seguir."
   ]
  },
  {
   "cell_type": "code",
   "execution_count": 23,
   "metadata": {},
   "outputs": [
    {
     "name": "stdout",
     "output_type": "stream",
     "text": [
      "Número de tipos únicos de despesa: 11\n"
     ]
    }
   ],
   "source": [
    "# Número de dados na variável 'TIPO_DESPESA'\n",
    "numero_tipos_despesa = dataset['TIPO_DESPESA'].nunique()\n",
    "print(f\"Número de tipos únicos de despesa: {numero_tipos_despesa}\")\n"
   ]
  },
  {
   "cell_type": "code",
   "execution_count": 24,
   "metadata": {},
   "outputs": [
    {
     "name": "stdout",
     "output_type": "stream",
     "text": [
      "                                      Tipo de Despesa  Contagem\n",
      "0   Locomoçăo, hospedagem, alimentaçăo, combustíve...     16964\n",
      "1   Aluguel de imóveis para escritório político, c...     15206\n",
      "2   Passagens aéreas, aquáticas e terrestres nacio...     14897\n",
      "3   Locomoção, hospedagem, alimentação, combustíve...      8553\n",
      "4   Aquisiçăo de material de consumo para uso no e...      3691\n",
      "5                 Divulgaçăo da atividade parlamentar      3627\n",
      "6   Contrataçăo de consultorias, assessorias, pesq...      3147\n",
      "7   Aquisição de material de consumo para uso no e...      1316\n",
      "8   Contratação de consultorias, assessorias, pesq...       981\n",
      "9                 Divulgação da atividade parlamentar       860\n",
      "10                      Serviços de Segurança Privada       113\n"
     ]
    }
   ],
   "source": [
    "# Os 10 tipos mais frequentes e quantas vezes eles aparecem no dataset.\n",
    "contagem_despesas = dataset['TIPO_DESPESA'].value_counts()\n",
    "\n",
    "# Visualização em forma tabular\n",
    "tabela_despesas = pd.DataFrame(contagem_despesas)\n",
    "tabela_despesas.reset_index(inplace=True)\n",
    "tabela_despesas.columns = ['Tipo de Despesa', 'Contagem']\n",
    "print(tabela_despesas)\n",
    "\n"
   ]
  },
  {
   "cell_type": "markdown",
   "metadata": {},
   "source": [
    "Agora uma breve analise em relação ao reembolso dos senadores."
   ]
  },
  {
   "cell_type": "code",
   "execution_count": 25,
   "metadata": {},
   "outputs": [
    {
     "name": "stdout",
     "output_type": "stream",
     "text": [
      "                CNPJ_CPF  VALOR_REEMBOLSADO\n",
      "4067  16.978.175/0001-08         7115721.19\n",
      "6160  33.937.681/0001-78         3018371.77\n",
      "2206  07.575.651/0001-59         2105707.28\n",
      "5285  26.480.780/0001-08         1413131.07\n",
      "5939  31.837.019/0001-10         1200000.00\n",
      "6063  33.055.400/0001-53         1055000.00\n",
      "3693  14.294.443/0001-47          947772.09\n",
      "6492  37.195.146/0001-40          891200.00\n",
      "2728  09.296.295/0001-60          844221.05\n",
      "633   02.354.051/0001-47          675505.69\n"
     ]
    }
   ],
   "source": [
    "# Agrupar os dados por CNPJ_CPF e somar os VALOR_REEMBOLSADO\n",
    "cnpj_total = dataset.groupby('CNPJ_CPF')['VALOR_REEMBOLSADO'].sum().reset_index()\n",
    "\n",
    "# Ordenar os CNPJs pelo valor reembolsado em ordem decrescente e pegar os top 10\n",
    "top10_cnpjs = cnpj_total.sort_values(by='VALOR_REEMBOLSADO', ascending=False).head(10)\n",
    "\n",
    "# Exibir os resultados\n",
    "print(top10_cnpjs)\n"
   ]
  },
  {
   "cell_type": "code",
   "execution_count": 26,
   "metadata": {},
   "outputs": [
    {
     "name": "stdout",
     "output_type": "stream",
     "text": [
      "                CNPJ_CPF                                       NOME_EMPRESA\n",
      "4067  16.978.175/0001-08                       ADRIA VIAGENS E TURISMO LTDA\n",
      "6160  33.937.681/0001-78                           LATAM AIRLINES GROUP S/A\n",
      "2206  07.575.651/0001-59                             GOL LINHAS AEREAS S.A.\n",
      "5285  26.480.780/0001-08                        L M EMPRESA DE TURISMO LTDA\n",
      "5939  31.837.019/0001-10          BORA COMUNICACAO E MARKETING DIGITAL LTDA\n",
      "6063  33.055.400/0001-53                                     L COELHO SERRA\n",
      "3693  14.294.443/0001-47                                   A CAMACHO TORRES\n",
      "6492  37.195.146/0001-40  HOME MIX PRODUCAO E ASSESSORIA EM RADIODIFUSAO...\n",
      "2728  09.296.295/0001-60                AZUL LINHAS AEREAS BRASILEIRAS S.A.\n",
      "633   02.354.051/0001-47                        SUPERPHOTO COMUNICACAO LTDA\n"
     ]
    },
    {
     "data": {
      "application/vnd.plotly.v1+json": {
       "config": {
        "plotlyServerURL": "https://plot.ly"
       },
       "data": [
        {
         "alignmentgroup": "True",
         "hovertemplate": "Empresa=%{x}<br>Valor Reembolsado Total (R$)=%{text}<extra></extra>",
         "legendgroup": "",
         "marker": {
          "color": "#636efa",
          "pattern": {
           "shape": ""
          }
         },
         "name": "",
         "offsetgroup": "",
         "orientation": "v",
         "showlegend": false,
         "text": [
          7115721.19,
          3018371.77,
          2105707.28,
          1413131.07,
          1200000,
          1055000,
          947772.09,
          891200,
          844221.05,
          675505.69
         ],
         "textposition": "outside",
         "texttemplate": "%{text:.2s}",
         "type": "bar",
         "x": [
          "ADRIA VIAGENS E TURISMO LTDA",
          "LATAM AIRLINES GROUP S/A",
          "GOL LINHAS AEREAS S.A.",
          "L M EMPRESA DE TURISMO LTDA",
          "BORA COMUNICACAO E MARKETING DIGITAL LTDA",
          "L COELHO SERRA",
          "A CAMACHO TORRES",
          "HOME MIX PRODUCAO E ASSESSORIA EM RADIODIFUSAO S/S LTDA",
          "AZUL LINHAS AEREAS BRASILEIRAS S.A.",
          "SUPERPHOTO COMUNICACAO LTDA"
         ],
         "xaxis": "x",
         "y": [
          7115721.19,
          3018371.77,
          2105707.28,
          1413131.07,
          1200000,
          1055000,
          947772.09,
          891200,
          844221.05,
          675505.69
         ],
         "yaxis": "y"
        }
       ],
       "layout": {
        "barmode": "relative",
        "legend": {
         "tracegroupgap": 0
        },
        "template": {
         "data": {
          "bar": [
           {
            "error_x": {
             "color": "#2a3f5f"
            },
            "error_y": {
             "color": "#2a3f5f"
            },
            "marker": {
             "line": {
              "color": "#E5ECF6",
              "width": 0.5
             },
             "pattern": {
              "fillmode": "overlay",
              "size": 10,
              "solidity": 0.2
             }
            },
            "type": "bar"
           }
          ],
          "barpolar": [
           {
            "marker": {
             "line": {
              "color": "#E5ECF6",
              "width": 0.5
             },
             "pattern": {
              "fillmode": "overlay",
              "size": 10,
              "solidity": 0.2
             }
            },
            "type": "barpolar"
           }
          ],
          "carpet": [
           {
            "aaxis": {
             "endlinecolor": "#2a3f5f",
             "gridcolor": "white",
             "linecolor": "white",
             "minorgridcolor": "white",
             "startlinecolor": "#2a3f5f"
            },
            "baxis": {
             "endlinecolor": "#2a3f5f",
             "gridcolor": "white",
             "linecolor": "white",
             "minorgridcolor": "white",
             "startlinecolor": "#2a3f5f"
            },
            "type": "carpet"
           }
          ],
          "choropleth": [
           {
            "colorbar": {
             "outlinewidth": 0,
             "ticks": ""
            },
            "type": "choropleth"
           }
          ],
          "contour": [
           {
            "colorbar": {
             "outlinewidth": 0,
             "ticks": ""
            },
            "colorscale": [
             [
              0,
              "#0d0887"
             ],
             [
              0.1111111111111111,
              "#46039f"
             ],
             [
              0.2222222222222222,
              "#7201a8"
             ],
             [
              0.3333333333333333,
              "#9c179e"
             ],
             [
              0.4444444444444444,
              "#bd3786"
             ],
             [
              0.5555555555555556,
              "#d8576b"
             ],
             [
              0.6666666666666666,
              "#ed7953"
             ],
             [
              0.7777777777777778,
              "#fb9f3a"
             ],
             [
              0.8888888888888888,
              "#fdca26"
             ],
             [
              1,
              "#f0f921"
             ]
            ],
            "type": "contour"
           }
          ],
          "contourcarpet": [
           {
            "colorbar": {
             "outlinewidth": 0,
             "ticks": ""
            },
            "type": "contourcarpet"
           }
          ],
          "heatmap": [
           {
            "colorbar": {
             "outlinewidth": 0,
             "ticks": ""
            },
            "colorscale": [
             [
              0,
              "#0d0887"
             ],
             [
              0.1111111111111111,
              "#46039f"
             ],
             [
              0.2222222222222222,
              "#7201a8"
             ],
             [
              0.3333333333333333,
              "#9c179e"
             ],
             [
              0.4444444444444444,
              "#bd3786"
             ],
             [
              0.5555555555555556,
              "#d8576b"
             ],
             [
              0.6666666666666666,
              "#ed7953"
             ],
             [
              0.7777777777777778,
              "#fb9f3a"
             ],
             [
              0.8888888888888888,
              "#fdca26"
             ],
             [
              1,
              "#f0f921"
             ]
            ],
            "type": "heatmap"
           }
          ],
          "heatmapgl": [
           {
            "colorbar": {
             "outlinewidth": 0,
             "ticks": ""
            },
            "colorscale": [
             [
              0,
              "#0d0887"
             ],
             [
              0.1111111111111111,
              "#46039f"
             ],
             [
              0.2222222222222222,
              "#7201a8"
             ],
             [
              0.3333333333333333,
              "#9c179e"
             ],
             [
              0.4444444444444444,
              "#bd3786"
             ],
             [
              0.5555555555555556,
              "#d8576b"
             ],
             [
              0.6666666666666666,
              "#ed7953"
             ],
             [
              0.7777777777777778,
              "#fb9f3a"
             ],
             [
              0.8888888888888888,
              "#fdca26"
             ],
             [
              1,
              "#f0f921"
             ]
            ],
            "type": "heatmapgl"
           }
          ],
          "histogram": [
           {
            "marker": {
             "pattern": {
              "fillmode": "overlay",
              "size": 10,
              "solidity": 0.2
             }
            },
            "type": "histogram"
           }
          ],
          "histogram2d": [
           {
            "colorbar": {
             "outlinewidth": 0,
             "ticks": ""
            },
            "colorscale": [
             [
              0,
              "#0d0887"
             ],
             [
              0.1111111111111111,
              "#46039f"
             ],
             [
              0.2222222222222222,
              "#7201a8"
             ],
             [
              0.3333333333333333,
              "#9c179e"
             ],
             [
              0.4444444444444444,
              "#bd3786"
             ],
             [
              0.5555555555555556,
              "#d8576b"
             ],
             [
              0.6666666666666666,
              "#ed7953"
             ],
             [
              0.7777777777777778,
              "#fb9f3a"
             ],
             [
              0.8888888888888888,
              "#fdca26"
             ],
             [
              1,
              "#f0f921"
             ]
            ],
            "type": "histogram2d"
           }
          ],
          "histogram2dcontour": [
           {
            "colorbar": {
             "outlinewidth": 0,
             "ticks": ""
            },
            "colorscale": [
             [
              0,
              "#0d0887"
             ],
             [
              0.1111111111111111,
              "#46039f"
             ],
             [
              0.2222222222222222,
              "#7201a8"
             ],
             [
              0.3333333333333333,
              "#9c179e"
             ],
             [
              0.4444444444444444,
              "#bd3786"
             ],
             [
              0.5555555555555556,
              "#d8576b"
             ],
             [
              0.6666666666666666,
              "#ed7953"
             ],
             [
              0.7777777777777778,
              "#fb9f3a"
             ],
             [
              0.8888888888888888,
              "#fdca26"
             ],
             [
              1,
              "#f0f921"
             ]
            ],
            "type": "histogram2dcontour"
           }
          ],
          "mesh3d": [
           {
            "colorbar": {
             "outlinewidth": 0,
             "ticks": ""
            },
            "type": "mesh3d"
           }
          ],
          "parcoords": [
           {
            "line": {
             "colorbar": {
              "outlinewidth": 0,
              "ticks": ""
             }
            },
            "type": "parcoords"
           }
          ],
          "pie": [
           {
            "automargin": true,
            "type": "pie"
           }
          ],
          "scatter": [
           {
            "fillpattern": {
             "fillmode": "overlay",
             "size": 10,
             "solidity": 0.2
            },
            "type": "scatter"
           }
          ],
          "scatter3d": [
           {
            "line": {
             "colorbar": {
              "outlinewidth": 0,
              "ticks": ""
             }
            },
            "marker": {
             "colorbar": {
              "outlinewidth": 0,
              "ticks": ""
             }
            },
            "type": "scatter3d"
           }
          ],
          "scattercarpet": [
           {
            "marker": {
             "colorbar": {
              "outlinewidth": 0,
              "ticks": ""
             }
            },
            "type": "scattercarpet"
           }
          ],
          "scattergeo": [
           {
            "marker": {
             "colorbar": {
              "outlinewidth": 0,
              "ticks": ""
             }
            },
            "type": "scattergeo"
           }
          ],
          "scattergl": [
           {
            "marker": {
             "colorbar": {
              "outlinewidth": 0,
              "ticks": ""
             }
            },
            "type": "scattergl"
           }
          ],
          "scattermapbox": [
           {
            "marker": {
             "colorbar": {
              "outlinewidth": 0,
              "ticks": ""
             }
            },
            "type": "scattermapbox"
           }
          ],
          "scatterpolar": [
           {
            "marker": {
             "colorbar": {
              "outlinewidth": 0,
              "ticks": ""
             }
            },
            "type": "scatterpolar"
           }
          ],
          "scatterpolargl": [
           {
            "marker": {
             "colorbar": {
              "outlinewidth": 0,
              "ticks": ""
             }
            },
            "type": "scatterpolargl"
           }
          ],
          "scatterternary": [
           {
            "marker": {
             "colorbar": {
              "outlinewidth": 0,
              "ticks": ""
             }
            },
            "type": "scatterternary"
           }
          ],
          "surface": [
           {
            "colorbar": {
             "outlinewidth": 0,
             "ticks": ""
            },
            "colorscale": [
             [
              0,
              "#0d0887"
             ],
             [
              0.1111111111111111,
              "#46039f"
             ],
             [
              0.2222222222222222,
              "#7201a8"
             ],
             [
              0.3333333333333333,
              "#9c179e"
             ],
             [
              0.4444444444444444,
              "#bd3786"
             ],
             [
              0.5555555555555556,
              "#d8576b"
             ],
             [
              0.6666666666666666,
              "#ed7953"
             ],
             [
              0.7777777777777778,
              "#fb9f3a"
             ],
             [
              0.8888888888888888,
              "#fdca26"
             ],
             [
              1,
              "#f0f921"
             ]
            ],
            "type": "surface"
           }
          ],
          "table": [
           {
            "cells": {
             "fill": {
              "color": "#EBF0F8"
             },
             "line": {
              "color": "white"
             }
            },
            "header": {
             "fill": {
              "color": "#C8D4E3"
             },
             "line": {
              "color": "white"
             }
            },
            "type": "table"
           }
          ]
         },
         "layout": {
          "annotationdefaults": {
           "arrowcolor": "#2a3f5f",
           "arrowhead": 0,
           "arrowwidth": 1
          },
          "autotypenumbers": "strict",
          "coloraxis": {
           "colorbar": {
            "outlinewidth": 0,
            "ticks": ""
           }
          },
          "colorscale": {
           "diverging": [
            [
             0,
             "#8e0152"
            ],
            [
             0.1,
             "#c51b7d"
            ],
            [
             0.2,
             "#de77ae"
            ],
            [
             0.3,
             "#f1b6da"
            ],
            [
             0.4,
             "#fde0ef"
            ],
            [
             0.5,
             "#f7f7f7"
            ],
            [
             0.6,
             "#e6f5d0"
            ],
            [
             0.7,
             "#b8e186"
            ],
            [
             0.8,
             "#7fbc41"
            ],
            [
             0.9,
             "#4d9221"
            ],
            [
             1,
             "#276419"
            ]
           ],
           "sequential": [
            [
             0,
             "#0d0887"
            ],
            [
             0.1111111111111111,
             "#46039f"
            ],
            [
             0.2222222222222222,
             "#7201a8"
            ],
            [
             0.3333333333333333,
             "#9c179e"
            ],
            [
             0.4444444444444444,
             "#bd3786"
            ],
            [
             0.5555555555555556,
             "#d8576b"
            ],
            [
             0.6666666666666666,
             "#ed7953"
            ],
            [
             0.7777777777777778,
             "#fb9f3a"
            ],
            [
             0.8888888888888888,
             "#fdca26"
            ],
            [
             1,
             "#f0f921"
            ]
           ],
           "sequentialminus": [
            [
             0,
             "#0d0887"
            ],
            [
             0.1111111111111111,
             "#46039f"
            ],
            [
             0.2222222222222222,
             "#7201a8"
            ],
            [
             0.3333333333333333,
             "#9c179e"
            ],
            [
             0.4444444444444444,
             "#bd3786"
            ],
            [
             0.5555555555555556,
             "#d8576b"
            ],
            [
             0.6666666666666666,
             "#ed7953"
            ],
            [
             0.7777777777777778,
             "#fb9f3a"
            ],
            [
             0.8888888888888888,
             "#fdca26"
            ],
            [
             1,
             "#f0f921"
            ]
           ]
          },
          "colorway": [
           "#636efa",
           "#EF553B",
           "#00cc96",
           "#ab63fa",
           "#FFA15A",
           "#19d3f3",
           "#FF6692",
           "#B6E880",
           "#FF97FF",
           "#FECB52"
          ],
          "font": {
           "color": "#2a3f5f"
          },
          "geo": {
           "bgcolor": "white",
           "lakecolor": "white",
           "landcolor": "#E5ECF6",
           "showlakes": true,
           "showland": true,
           "subunitcolor": "white"
          },
          "hoverlabel": {
           "align": "left"
          },
          "hovermode": "closest",
          "mapbox": {
           "style": "light"
          },
          "paper_bgcolor": "white",
          "plot_bgcolor": "#E5ECF6",
          "polar": {
           "angularaxis": {
            "gridcolor": "white",
            "linecolor": "white",
            "ticks": ""
           },
           "bgcolor": "#E5ECF6",
           "radialaxis": {
            "gridcolor": "white",
            "linecolor": "white",
            "ticks": ""
           }
          },
          "scene": {
           "xaxis": {
            "backgroundcolor": "#E5ECF6",
            "gridcolor": "white",
            "gridwidth": 2,
            "linecolor": "white",
            "showbackground": true,
            "ticks": "",
            "zerolinecolor": "white"
           },
           "yaxis": {
            "backgroundcolor": "#E5ECF6",
            "gridcolor": "white",
            "gridwidth": 2,
            "linecolor": "white",
            "showbackground": true,
            "ticks": "",
            "zerolinecolor": "white"
           },
           "zaxis": {
            "backgroundcolor": "#E5ECF6",
            "gridcolor": "white",
            "gridwidth": 2,
            "linecolor": "white",
            "showbackground": true,
            "ticks": "",
            "zerolinecolor": "white"
           }
          },
          "shapedefaults": {
           "line": {
            "color": "#2a3f5f"
           }
          },
          "ternary": {
           "aaxis": {
            "gridcolor": "white",
            "linecolor": "white",
            "ticks": ""
           },
           "baxis": {
            "gridcolor": "white",
            "linecolor": "white",
            "ticks": ""
           },
           "bgcolor": "#E5ECF6",
           "caxis": {
            "gridcolor": "white",
            "linecolor": "white",
            "ticks": ""
           }
          },
          "title": {
           "x": 0.05
          },
          "xaxis": {
           "automargin": true,
           "gridcolor": "white",
           "linecolor": "white",
           "ticks": "",
           "title": {
            "standoff": 15
           },
           "zerolinecolor": "white",
           "zerolinewidth": 2
          },
          "yaxis": {
           "automargin": true,
           "gridcolor": "white",
           "linecolor": "white",
           "ticks": "",
           "title": {
            "standoff": 15
           },
           "zerolinecolor": "white",
           "zerolinewidth": 2
          }
         }
        },
        "title": {
         "text": "Top 10 Empresas por Valor Reembolsado"
        },
        "xaxis": {
         "anchor": "y",
         "categoryorder": "total descending",
         "domain": [
          0,
          1
         ],
         "tickangle": -45,
         "title": {
          "text": "Empresa"
         }
        },
        "yaxis": {
         "anchor": "x",
         "domain": [
          0,
          1
         ],
         "title": {
          "text": "Valor Reembolsado Total (R$)"
         }
        }
       }
      }
     },
     "metadata": {},
     "output_type": "display_data"
    }
   ],
   "source": [
    "def limpar_cnpj(cnpj):\n",
    "    # Remover quaisquer caracteres que não sejam dígitos\n",
    "    return ''.join(filter(str.isdigit, cnpj))\n",
    "\n",
    "def obter_nome_empresa(cnpj):\n",
    "    cnpj = limpar_cnpj(cnpj)  # Limpa o CNPJ antes de fazer a requisição\n",
    "    url = f\"https://brasilapi.com.br/api/cnpj/v1/{cnpj}\"\n",
    "    tentativas = 3  # Número de tentativas de requisição\n",
    "    for tentativa in range(tentativas):\n",
    "        try:\n",
    "            response = requests.get(url, timeout=10)  # Define um timeout de 10 segundos\n",
    "            response.raise_for_status()  # Verifica se a requisição foi bem-sucedida\n",
    "            data = response.json()\n",
    "            return data.get('razao_social')\n",
    "        except requests.HTTPError as e:\n",
    "            print(f\"Erro HTTP ao acessar a API para o CNPJ {cnpj}: {e}\")\n",
    "            if response.status_code in [500, 502, 503, 504]:\n",
    "                time.sleep(5)  # Espera 5 segundos antes de tentar novamente se for erro do servidor\n",
    "            else:\n",
    "                break  # Para outros erros HTTP, interrompe as tentativas\n",
    "        except requests.RequestException as e:\n",
    "            print(f\"Erro de rede ao acessar a API para o CNPJ {cnpj}: {e}\")\n",
    "            time.sleep(5)  # Espera 5 segundos antes de tentar novamente\n",
    "        except Exception as e:\n",
    "            print(f\"Erro desconhecido: {e}\")\n",
    "            break\n",
    "    return None\n",
    "\n",
    "# Aplicação da função com tratamento de exceções\n",
    "top10_cnpjs['NOME_EMPRESA'] = top10_cnpjs['CNPJ_CPF'].apply(obter_nome_empresa)\n",
    "\n",
    "# Verificar o DataFrame\n",
    "print(top10_cnpjs[['CNPJ_CPF', 'NOME_EMPRESA']])\n",
    "\n",
    "# Criar o gráfico de barras com Plotly Express\n",
    "fig = px.bar(top10_cnpjs, x=\"NOME_EMPRESA\", y=\"VALOR_REEMBOLSADO\",\n",
    "             title=\"Top 10 Empresas por Valor Reembolsado\",\n",
    "             labels={\"VALOR_REEMBOLSADO\": \"Valor Reembolsado Total (R$)\", \"NOME_EMPRESA\": \"Empresa\"},\n",
    "             text='VALOR_REEMBOLSADO')\n",
    "\n",
    "# Ajustar a apresentação do gráfico\n",
    "fig.update_traces(texttemplate='%{text:.2s}', textposition='outside')\n",
    "fig.update_layout(xaxis={'categoryorder':'total descending'},\n",
    "                  yaxis_title=\"Valor Reembolsado Total (R$)\",\n",
    "                  xaxis_title=\"Empresa\",\n",
    "                  xaxis_tickangle=-45)\n",
    "\n",
    "# Exibir o gráfico\n",
    "fig.show()\n"
   ]
  },
  {
   "cell_type": "code",
   "execution_count": 27,
   "metadata": {},
   "outputs": [
    {
     "name": "stdout",
     "output_type": "stream",
     "text": [
      "O(s) senador(es) com o maior(es) reembolso(s) para a empresa 14.294.443/0001-47 (A CAMACHO TORRES) foi o:            SENADOR  VALOR_REEMBOLSADO\n",
      "0  FERNANDO COLLOR          603505.69\n",
      "1  RENILDE BULHÕES           72000.00\n"
     ]
    }
   ],
   "source": [
    "# Filtrar o dataset para incluir apenas registros do CNPJ específico\n",
    "cnpj_especifico = '02.354.051/0001-47'\n",
    "dados_filtrados = dataset[dataset['CNPJ_CPF'] == cnpj_especifico]\n",
    "\n",
    "# Agrupar os dados por SENADOR e somar os VALOR_REEMBOLSADO\n",
    "senadores_reembolsos = dados_filtrados.groupby('SENADOR')['VALOR_REEMBOLSADO'].sum().reset_index()\n",
    "\n",
    "# Ordenar os senadores pelo valor reembolsado em ordem decrescente\n",
    "senadores_reembolsos = senadores_reembolsos.sort_values(by='VALOR_REEMBOLSADO', ascending=False)\n",
    "\n",
    "# Exibir os resultados\n",
    "print(f\"O(s) senador(es) com o maior(es) reembolso(s) para a empresa 14.294.443/0001-47 (A CAMACHO TORRES) foi o: {senadores_reembolsos}\")\n"
   ]
  },
  {
   "cell_type": "code",
   "execution_count": 28,
   "metadata": {},
   "outputs": [
    {
     "name": "stdout",
     "output_type": "stream",
     "text": [
      "O(s) senador(es) com o maior(es) reembolso(s) para a empresa 33.055.400/0001-53 (L COELHO SERRA) foi o:          SENADOR  VALOR_REEMBOLSADO\n",
      "0  EDUARDO BRAGA          1055000.0\n"
     ]
    }
   ],
   "source": [
    "# Filtrar o dataset para incluir apenas registros do CNPJ específico\n",
    "cnpj_especifico = '33.055.400/0001-53'\n",
    "dados_filtrados = dataset[dataset['CNPJ_CPF'] == cnpj_especifico]\n",
    "\n",
    "# Agrupar os dados por SENADOR e somar os VALOR_REEMBOLSADO\n",
    "senadores_reembolsos = dados_filtrados.groupby('SENADOR')['VALOR_REEMBOLSADO'].sum().reset_index()\n",
    "\n",
    "# Ordenar os senadores pelo valor reembolsado em ordem decrescente\n",
    "senadores_reembolsos = senadores_reembolsos.sort_values(by='VALOR_REEMBOLSADO', ascending=False)\n",
    "\n",
    "# Exibir os resultados\n",
    "print(f\"O(s) senador(es) com o maior(es) reembolso(s) para a empresa 33.055.400/0001-53 (L COELHO SERRA) foi o: {senadores_reembolsos}\")\n"
   ]
  },
  {
   "cell_type": "code",
   "execution_count": 29,
   "metadata": {},
   "outputs": [
    {
     "name": "stdout",
     "output_type": "stream",
     "text": [
      "O(s) senador(es) com o maior(es) reembolso(s) para a empresa 31.837.019/0001-10 (BORA COMUNICACAO E MARKETING DIGITAL LTDA) foi o:           SENADOR  VALOR_REEMBOLSADO\n",
      "0  JADER BARBALHO          1200000.0\n"
     ]
    }
   ],
   "source": [
    "# Filtrar o dataset para incluir apenas registros do CNPJ específico\n",
    "cnpj_especifico = '31.837.019/0001-10'\n",
    "dados_filtrados = dataset[dataset['CNPJ_CPF'] == cnpj_especifico]\n",
    "\n",
    "# Agrupar os dados por SENADOR e somar os VALOR_REEMBOLSADO\n",
    "senadores_reembolsos = dados_filtrados.groupby('SENADOR')['VALOR_REEMBOLSADO'].sum().reset_index()\n",
    "\n",
    "# Ordenar os senadores pelo valor reembolsado em ordem decrescente\n",
    "senadores_reembolsos = senadores_reembolsos.sort_values(by='VALOR_REEMBOLSADO', ascending=False)\n",
    "\n",
    "# Exibir os resultados\n",
    "print(f\"O(s) senador(es) com o maior(es) reembolso(s) para a empresa 31.837.019/0001-10 (BORA COMUNICACAO E MARKETING DIGITAL LTDA) foi o: {senadores_reembolsos}\")\n"
   ]
  },
  {
   "cell_type": "code",
   "execution_count": 30,
   "metadata": {},
   "outputs": [],
   "source": [
    "#Função para abreviar os valores que será usada em alguns gráficos a seguir.\n",
    "def abreviar_valor(num):\n",
    "    \"\"\"Abrevia valores numéricos usando K para milhares, M para milhões, etc.\"\"\"\n",
    "    for unidade in ['', 'K', 'M', 'B', 'T']:\n",
    "        if abs(num) < 1000:\n",
    "            return f\"{num:.1f}{unidade}\"\n",
    "        num /= 1000.0\n",
    "    return f\"{num:.1f}T\"  # Caso extremamente grande"
   ]
  },
  {
   "cell_type": "code",
   "execution_count": 31,
   "metadata": {},
   "outputs": [
    {
     "name": "stdout",
     "output_type": "stream",
     "text": [
      "O valor total dos reembolsos é: R$ 98006811.17\n",
      "O valor total dos reembolsos abreviado é: R$ 98.0M\n"
     ]
    }
   ],
   "source": [
    "# Calcular a soma total dos valores reembolsados\n",
    "total_reembolsos = dataset['VALOR_REEMBOLSADO'].sum()\n",
    "\n",
    "# Exibir o valor total e o valor abreviado\n",
    "print(f\"O valor total dos reembolsos é: R$ {total_reembolsos:.2f}\")\n",
    "print(f\"O valor total dos reembolsos abreviado é: R$ {abreviar_valor(total_reembolsos)}\")\n"
   ]
  },
  {
   "cell_type": "code",
   "execution_count": 32,
   "metadata": {},
   "outputs": [
    {
     "data": {
      "application/vnd.plotly.v1+json": {
       "config": {
        "plotlyServerURL": "https://plot.ly"
       },
       "data": [
        {
         "text": [
          "R$ 98.0M"
         ],
         "textposition": "auto",
         "type": "bar",
         "x": [
          "Total Reembolsos"
         ],
         "y": [
          98006811.17
         ]
        }
       ],
       "layout": {
        "showlegend": false,
        "template": {
         "data": {
          "bar": [
           {
            "error_x": {
             "color": "#2a3f5f"
            },
            "error_y": {
             "color": "#2a3f5f"
            },
            "marker": {
             "line": {
              "color": "#E5ECF6",
              "width": 0.5
             },
             "pattern": {
              "fillmode": "overlay",
              "size": 10,
              "solidity": 0.2
             }
            },
            "type": "bar"
           }
          ],
          "barpolar": [
           {
            "marker": {
             "line": {
              "color": "#E5ECF6",
              "width": 0.5
             },
             "pattern": {
              "fillmode": "overlay",
              "size": 10,
              "solidity": 0.2
             }
            },
            "type": "barpolar"
           }
          ],
          "carpet": [
           {
            "aaxis": {
             "endlinecolor": "#2a3f5f",
             "gridcolor": "white",
             "linecolor": "white",
             "minorgridcolor": "white",
             "startlinecolor": "#2a3f5f"
            },
            "baxis": {
             "endlinecolor": "#2a3f5f",
             "gridcolor": "white",
             "linecolor": "white",
             "minorgridcolor": "white",
             "startlinecolor": "#2a3f5f"
            },
            "type": "carpet"
           }
          ],
          "choropleth": [
           {
            "colorbar": {
             "outlinewidth": 0,
             "ticks": ""
            },
            "type": "choropleth"
           }
          ],
          "contour": [
           {
            "colorbar": {
             "outlinewidth": 0,
             "ticks": ""
            },
            "colorscale": [
             [
              0,
              "#0d0887"
             ],
             [
              0.1111111111111111,
              "#46039f"
             ],
             [
              0.2222222222222222,
              "#7201a8"
             ],
             [
              0.3333333333333333,
              "#9c179e"
             ],
             [
              0.4444444444444444,
              "#bd3786"
             ],
             [
              0.5555555555555556,
              "#d8576b"
             ],
             [
              0.6666666666666666,
              "#ed7953"
             ],
             [
              0.7777777777777778,
              "#fb9f3a"
             ],
             [
              0.8888888888888888,
              "#fdca26"
             ],
             [
              1,
              "#f0f921"
             ]
            ],
            "type": "contour"
           }
          ],
          "contourcarpet": [
           {
            "colorbar": {
             "outlinewidth": 0,
             "ticks": ""
            },
            "type": "contourcarpet"
           }
          ],
          "heatmap": [
           {
            "colorbar": {
             "outlinewidth": 0,
             "ticks": ""
            },
            "colorscale": [
             [
              0,
              "#0d0887"
             ],
             [
              0.1111111111111111,
              "#46039f"
             ],
             [
              0.2222222222222222,
              "#7201a8"
             ],
             [
              0.3333333333333333,
              "#9c179e"
             ],
             [
              0.4444444444444444,
              "#bd3786"
             ],
             [
              0.5555555555555556,
              "#d8576b"
             ],
             [
              0.6666666666666666,
              "#ed7953"
             ],
             [
              0.7777777777777778,
              "#fb9f3a"
             ],
             [
              0.8888888888888888,
              "#fdca26"
             ],
             [
              1,
              "#f0f921"
             ]
            ],
            "type": "heatmap"
           }
          ],
          "heatmapgl": [
           {
            "colorbar": {
             "outlinewidth": 0,
             "ticks": ""
            },
            "colorscale": [
             [
              0,
              "#0d0887"
             ],
             [
              0.1111111111111111,
              "#46039f"
             ],
             [
              0.2222222222222222,
              "#7201a8"
             ],
             [
              0.3333333333333333,
              "#9c179e"
             ],
             [
              0.4444444444444444,
              "#bd3786"
             ],
             [
              0.5555555555555556,
              "#d8576b"
             ],
             [
              0.6666666666666666,
              "#ed7953"
             ],
             [
              0.7777777777777778,
              "#fb9f3a"
             ],
             [
              0.8888888888888888,
              "#fdca26"
             ],
             [
              1,
              "#f0f921"
             ]
            ],
            "type": "heatmapgl"
           }
          ],
          "histogram": [
           {
            "marker": {
             "pattern": {
              "fillmode": "overlay",
              "size": 10,
              "solidity": 0.2
             }
            },
            "type": "histogram"
           }
          ],
          "histogram2d": [
           {
            "colorbar": {
             "outlinewidth": 0,
             "ticks": ""
            },
            "colorscale": [
             [
              0,
              "#0d0887"
             ],
             [
              0.1111111111111111,
              "#46039f"
             ],
             [
              0.2222222222222222,
              "#7201a8"
             ],
             [
              0.3333333333333333,
              "#9c179e"
             ],
             [
              0.4444444444444444,
              "#bd3786"
             ],
             [
              0.5555555555555556,
              "#d8576b"
             ],
             [
              0.6666666666666666,
              "#ed7953"
             ],
             [
              0.7777777777777778,
              "#fb9f3a"
             ],
             [
              0.8888888888888888,
              "#fdca26"
             ],
             [
              1,
              "#f0f921"
             ]
            ],
            "type": "histogram2d"
           }
          ],
          "histogram2dcontour": [
           {
            "colorbar": {
             "outlinewidth": 0,
             "ticks": ""
            },
            "colorscale": [
             [
              0,
              "#0d0887"
             ],
             [
              0.1111111111111111,
              "#46039f"
             ],
             [
              0.2222222222222222,
              "#7201a8"
             ],
             [
              0.3333333333333333,
              "#9c179e"
             ],
             [
              0.4444444444444444,
              "#bd3786"
             ],
             [
              0.5555555555555556,
              "#d8576b"
             ],
             [
              0.6666666666666666,
              "#ed7953"
             ],
             [
              0.7777777777777778,
              "#fb9f3a"
             ],
             [
              0.8888888888888888,
              "#fdca26"
             ],
             [
              1,
              "#f0f921"
             ]
            ],
            "type": "histogram2dcontour"
           }
          ],
          "mesh3d": [
           {
            "colorbar": {
             "outlinewidth": 0,
             "ticks": ""
            },
            "type": "mesh3d"
           }
          ],
          "parcoords": [
           {
            "line": {
             "colorbar": {
              "outlinewidth": 0,
              "ticks": ""
             }
            },
            "type": "parcoords"
           }
          ],
          "pie": [
           {
            "automargin": true,
            "type": "pie"
           }
          ],
          "scatter": [
           {
            "fillpattern": {
             "fillmode": "overlay",
             "size": 10,
             "solidity": 0.2
            },
            "type": "scatter"
           }
          ],
          "scatter3d": [
           {
            "line": {
             "colorbar": {
              "outlinewidth": 0,
              "ticks": ""
             }
            },
            "marker": {
             "colorbar": {
              "outlinewidth": 0,
              "ticks": ""
             }
            },
            "type": "scatter3d"
           }
          ],
          "scattercarpet": [
           {
            "marker": {
             "colorbar": {
              "outlinewidth": 0,
              "ticks": ""
             }
            },
            "type": "scattercarpet"
           }
          ],
          "scattergeo": [
           {
            "marker": {
             "colorbar": {
              "outlinewidth": 0,
              "ticks": ""
             }
            },
            "type": "scattergeo"
           }
          ],
          "scattergl": [
           {
            "marker": {
             "colorbar": {
              "outlinewidth": 0,
              "ticks": ""
             }
            },
            "type": "scattergl"
           }
          ],
          "scattermapbox": [
           {
            "marker": {
             "colorbar": {
              "outlinewidth": 0,
              "ticks": ""
             }
            },
            "type": "scattermapbox"
           }
          ],
          "scatterpolar": [
           {
            "marker": {
             "colorbar": {
              "outlinewidth": 0,
              "ticks": ""
             }
            },
            "type": "scatterpolar"
           }
          ],
          "scatterpolargl": [
           {
            "marker": {
             "colorbar": {
              "outlinewidth": 0,
              "ticks": ""
             }
            },
            "type": "scatterpolargl"
           }
          ],
          "scatterternary": [
           {
            "marker": {
             "colorbar": {
              "outlinewidth": 0,
              "ticks": ""
             }
            },
            "type": "scatterternary"
           }
          ],
          "surface": [
           {
            "colorbar": {
             "outlinewidth": 0,
             "ticks": ""
            },
            "colorscale": [
             [
              0,
              "#0d0887"
             ],
             [
              0.1111111111111111,
              "#46039f"
             ],
             [
              0.2222222222222222,
              "#7201a8"
             ],
             [
              0.3333333333333333,
              "#9c179e"
             ],
             [
              0.4444444444444444,
              "#bd3786"
             ],
             [
              0.5555555555555556,
              "#d8576b"
             ],
             [
              0.6666666666666666,
              "#ed7953"
             ],
             [
              0.7777777777777778,
              "#fb9f3a"
             ],
             [
              0.8888888888888888,
              "#fdca26"
             ],
             [
              1,
              "#f0f921"
             ]
            ],
            "type": "surface"
           }
          ],
          "table": [
           {
            "cells": {
             "fill": {
              "color": "#EBF0F8"
             },
             "line": {
              "color": "white"
             }
            },
            "header": {
             "fill": {
              "color": "#C8D4E3"
             },
             "line": {
              "color": "white"
             }
            },
            "type": "table"
           }
          ]
         },
         "layout": {
          "annotationdefaults": {
           "arrowcolor": "#2a3f5f",
           "arrowhead": 0,
           "arrowwidth": 1
          },
          "autotypenumbers": "strict",
          "coloraxis": {
           "colorbar": {
            "outlinewidth": 0,
            "ticks": ""
           }
          },
          "colorscale": {
           "diverging": [
            [
             0,
             "#8e0152"
            ],
            [
             0.1,
             "#c51b7d"
            ],
            [
             0.2,
             "#de77ae"
            ],
            [
             0.3,
             "#f1b6da"
            ],
            [
             0.4,
             "#fde0ef"
            ],
            [
             0.5,
             "#f7f7f7"
            ],
            [
             0.6,
             "#e6f5d0"
            ],
            [
             0.7,
             "#b8e186"
            ],
            [
             0.8,
             "#7fbc41"
            ],
            [
             0.9,
             "#4d9221"
            ],
            [
             1,
             "#276419"
            ]
           ],
           "sequential": [
            [
             0,
             "#0d0887"
            ],
            [
             0.1111111111111111,
             "#46039f"
            ],
            [
             0.2222222222222222,
             "#7201a8"
            ],
            [
             0.3333333333333333,
             "#9c179e"
            ],
            [
             0.4444444444444444,
             "#bd3786"
            ],
            [
             0.5555555555555556,
             "#d8576b"
            ],
            [
             0.6666666666666666,
             "#ed7953"
            ],
            [
             0.7777777777777778,
             "#fb9f3a"
            ],
            [
             0.8888888888888888,
             "#fdca26"
            ],
            [
             1,
             "#f0f921"
            ]
           ],
           "sequentialminus": [
            [
             0,
             "#0d0887"
            ],
            [
             0.1111111111111111,
             "#46039f"
            ],
            [
             0.2222222222222222,
             "#7201a8"
            ],
            [
             0.3333333333333333,
             "#9c179e"
            ],
            [
             0.4444444444444444,
             "#bd3786"
            ],
            [
             0.5555555555555556,
             "#d8576b"
            ],
            [
             0.6666666666666666,
             "#ed7953"
            ],
            [
             0.7777777777777778,
             "#fb9f3a"
            ],
            [
             0.8888888888888888,
             "#fdca26"
            ],
            [
             1,
             "#f0f921"
            ]
           ]
          },
          "colorway": [
           "#636efa",
           "#EF553B",
           "#00cc96",
           "#ab63fa",
           "#FFA15A",
           "#19d3f3",
           "#FF6692",
           "#B6E880",
           "#FF97FF",
           "#FECB52"
          ],
          "font": {
           "color": "#2a3f5f"
          },
          "geo": {
           "bgcolor": "white",
           "lakecolor": "white",
           "landcolor": "#E5ECF6",
           "showlakes": true,
           "showland": true,
           "subunitcolor": "white"
          },
          "hoverlabel": {
           "align": "left"
          },
          "hovermode": "closest",
          "mapbox": {
           "style": "light"
          },
          "paper_bgcolor": "white",
          "plot_bgcolor": "#E5ECF6",
          "polar": {
           "angularaxis": {
            "gridcolor": "white",
            "linecolor": "white",
            "ticks": ""
           },
           "bgcolor": "#E5ECF6",
           "radialaxis": {
            "gridcolor": "white",
            "linecolor": "white",
            "ticks": ""
           }
          },
          "scene": {
           "xaxis": {
            "backgroundcolor": "#E5ECF6",
            "gridcolor": "white",
            "gridwidth": 2,
            "linecolor": "white",
            "showbackground": true,
            "ticks": "",
            "zerolinecolor": "white"
           },
           "yaxis": {
            "backgroundcolor": "#E5ECF6",
            "gridcolor": "white",
            "gridwidth": 2,
            "linecolor": "white",
            "showbackground": true,
            "ticks": "",
            "zerolinecolor": "white"
           },
           "zaxis": {
            "backgroundcolor": "#E5ECF6",
            "gridcolor": "white",
            "gridwidth": 2,
            "linecolor": "white",
            "showbackground": true,
            "ticks": "",
            "zerolinecolor": "white"
           }
          },
          "shapedefaults": {
           "line": {
            "color": "#2a3f5f"
           }
          },
          "ternary": {
           "aaxis": {
            "gridcolor": "white",
            "linecolor": "white",
            "ticks": ""
           },
           "baxis": {
            "gridcolor": "white",
            "linecolor": "white",
            "ticks": ""
           },
           "bgcolor": "#E5ECF6",
           "caxis": {
            "gridcolor": "white",
            "linecolor": "white",
            "ticks": ""
           }
          },
          "title": {
           "x": 0.05
          },
          "xaxis": {
           "automargin": true,
           "gridcolor": "white",
           "linecolor": "white",
           "ticks": "",
           "title": {
            "standoff": 15
           },
           "zerolinecolor": "white",
           "zerolinewidth": 2
          },
          "yaxis": {
           "automargin": true,
           "gridcolor": "white",
           "linecolor": "white",
           "ticks": "",
           "title": {
            "standoff": 15
           },
           "zerolinecolor": "white",
           "zerolinewidth": 2
          }
         }
        },
        "title": {
         "text": "Valor Total dos Reembolsos"
        },
        "xaxis": {
         "title": {
          "text": ""
         }
        },
        "yaxis": {
         "title": {
          "text": "Valor Reembolsado Total (R$)"
         }
        }
       }
      }
     },
     "metadata": {},
     "output_type": "display_data"
    }
   ],
   "source": [
    "# Calcular a soma total dos valores reembolsados\n",
    "total_reembolsos = dataset['VALOR_REEMBOLSADO'].sum()\n",
    "\n",
    "# Criar o gráfico de barra\n",
    "fig = go.Figure(go.Bar(\n",
    "    x=['Total Reembolsos'],\n",
    "    y=[total_reembolsos],\n",
    "    text=[f\"R$ {abreviar_valor(total_reembolsos)}\"],\n",
    "    textposition='auto',\n",
    "))\n",
    "\n",
    "# Ajustar a apresentação do gráfico\n",
    "fig.update_layout(\n",
    "    title=\"Valor Total dos Reembolsos\",\n",
    "    yaxis_title=\"Valor Reembolsado Total (R$)\",\n",
    "    xaxis_title=\"\",\n",
    "    showlegend=False\n",
    ")\n",
    "\n",
    "# Exibir o gráfico\n",
    "fig.show()\n"
   ]
  },
  {
   "cell_type": "code",
   "execution_count": 33,
   "metadata": {},
   "outputs": [
    {
     "data": {
      "image/png": "[encoded data removed]",
      "text/plain": [
       "<Figure size 1000x600 with 1 Axes>"
      ]
     },
     "metadata": {},
     "output_type": "display_data"
    }
   ],
   "source": [
    "# Agrupar os dados por ano e calcular a soma dos valores reembolsados\n",
    "soma_ano = dataset.groupby('ANO')['VALOR_REEMBOLSADO'].sum().reset_index()\n",
    "\n",
    "# Criar o gráfico\n",
    "plt.figure(figsize=(10, 6))\n",
    "bars = plt.bar(soma_ano['ANO'].astype(str), soma_ano['VALOR_REEMBOLSADO'], color='skyblue')\n",
    "\n",
    "# Adicionar rótulos com valores abreviados acima de cada barra\n",
    "for bar in bars:\n",
    "    yval = bar.get_height()\n",
    "    plt.text(bar.get_x() + bar.get_width()/2, yval, abreviar_valor(yval), va='bottom', ha='center')\n",
    "\n",
    "plt.xlabel('Ano')\n",
    "plt.ylabel('Valor Reembolsado')\n",
    "plt.title('Soma dos Reembolsos por Ano')\n",
    "plt.xticks(soma_ano['ANO'].astype(str))  # Configura explicitamente os rótulos do eixo X\n",
    "\n",
    "plt.tight_layout()\n",
    "plt.show()\n"
   ]
  },
  {
   "cell_type": "markdown",
   "metadata": {},
   "source": [
    "A seguir vamos ver a relação dos senadores com esses reembolsos."
   ]
  },
  {
   "cell_type": "code",
   "execution_count": 34,
   "metadata": {},
   "outputs": [
    {
     "name": "stderr",
     "output_type": "stream",
     "text": [
      "/tmp/ipykernel_79222/4084661953.py:13: DeprecationWarning:\n",
      "\n",
      "DataFrameGroupBy.apply operated on the grouping columns. This behavior is deprecated, and in a future version of pandas the grouping columns will be excluded from the operation. Either pass `include_groups=False` to exclude the groupings or explicitly select the grouping columns after groupby to silence this warning.\n",
      "\n"
     ]
    },
    {
     "data": {
      "application/vnd.plotly.v1+json": {
       "config": {
        "plotlyServerURL": "https://plot.ly"
       },
       "data": [
        {
         "alignmentgroup": "True",
         "hovertemplate": "ANO=2019<br>SENADOR=%{x}<br>VALOR_REEMBOLSADO=%{y}<extra></extra>",
         "legendgroup": "",
         "marker": {
          "color": "#636efa",
          "pattern": {
           "shape": ""
          }
         },
         "name": "",
         "offsetgroup": "",
         "orientation": "v",
         "showlegend": false,
         "textposition": "auto",
         "type": "bar",
         "x": [
          "OMAR AZIZ",
          "EDUARDO BRAGA",
          "TELMÁRIO MOTA",
          "PAULO ROCHA",
          "MAILZA GOMES",
          "ROGÉRIO CARVALHO",
          "CIRO NOGUEIRA",
          "ALESSANDRO VIEIRA",
          "MECIAS DE JESUS",
          "ZEQUINHA MARINHO"
         ],
         "xaxis": "x4",
         "y": [
          531315.99,
          519561.65,
          485846.15,
          485114.4,
          466253.4,
          459892.5,
          452115.71,
          448395.92,
          447968.95,
          444688.2
         ],
         "yaxis": "y4"
        },
        {
         "alignmentgroup": "True",
         "hovertemplate": "ANO=2020<br>SENADOR=%{x}<br>VALOR_REEMBOLSADO=%{y}<extra></extra>",
         "legendgroup": "",
         "marker": {
          "color": "#636efa",
          "pattern": {
           "shape": ""
          }
         },
         "name": "",
         "offsetgroup": "",
         "orientation": "v",
         "showlegend": false,
         "textposition": "auto",
         "type": "bar",
         "x": [
          "DAVI ALCOLUMBRE",
          "TELMÁRIO MOTA",
          "MECIAS DE JESUS",
          "ROGÉRIO CARVALHO",
          "PAULO ROCHA",
          "MARCIO BITTAR",
          "WELLINGTON FAGUNDES",
          "MARCOS ROGÉRIO",
          "ACIR GURGACZ",
          "ROBERTO ROCHA"
         ],
         "xaxis": "x3",
         "y": [
          513609,
          488459.41,
          487992.63,
          486526.49,
          474301.41,
          460225.99,
          419966.92,
          415732.37,
          415364.91,
          409902.99
         ],
         "yaxis": "y3"
        },
        {
         "alignmentgroup": "True",
         "hovertemplate": "ANO=2021<br>SENADOR=%{x}<br>VALOR_REEMBOLSADO=%{y}<extra></extra>",
         "legendgroup": "",
         "marker": {
          "color": "#636efa",
          "pattern": {
           "shape": ""
          }
         },
         "name": "",
         "offsetgroup": "",
         "orientation": "v",
         "showlegend": false,
         "textposition": "auto",
         "type": "bar",
         "x": [
          "OMAR AZIZ",
          "DAVI ALCOLUMBRE",
          "ROGÉRIO CARVALHO",
          "LUCAS BARRETO",
          "MECIAS DE JESUS",
          "TELMÁRIO MOTA",
          "PAULO ROCHA",
          "ZEQUINHA MARINHO",
          "MARCIO BITTAR",
          "MAILZA GOMES"
         ],
         "xaxis": "x2",
         "y": [
          527681.31,
          512570.92,
          502132.23,
          499101.15,
          488693.4,
          488402.25,
          483888.13,
          470226.88,
          465838.31,
          462275.83
         ],
         "yaxis": "y2"
        },
        {
         "alignmentgroup": "True",
         "hovertemplate": "ANO=2022<br>SENADOR=%{x}<br>VALOR_REEMBOLSADO=%{y}<extra></extra>",
         "legendgroup": "",
         "marker": {
          "color": "#636efa",
          "pattern": {
           "shape": ""
          }
         },
         "name": "",
         "offsetgroup": "",
         "orientation": "v",
         "showlegend": false,
         "textposition": "auto",
         "type": "bar",
         "x": [
          "LUCAS BARRETO",
          "DAVI ALCOLUMBRE",
          "OMAR AZIZ",
          "TELMÁRIO MOTA",
          "MECIAS DE JESUS",
          "ROGÉRIO CARVALHO",
          "RANDOLFE RODRIGUES",
          "CHICO RODRIGUES",
          "MAILZA GOMES",
          "ELMANO FÉRRER"
         ],
         "xaxis": "x",
         "y": [
          511319.78,
          505054.54,
          494369.33,
          488693.4,
          488586.66,
          487764.65,
          487758.92,
          486958.05,
          465899.61,
          465194.93
         ],
         "yaxis": "y"
        }
       ],
       "layout": {
        "annotations": [
         {
          "font": {},
          "showarrow": false,
          "text": "ANO=2022",
          "textangle": 90,
          "x": 0.98,
          "xanchor": "left",
          "xref": "paper",
          "y": 0.10625,
          "yanchor": "middle",
          "yref": "paper"
         },
         {
          "font": {},
          "showarrow": false,
          "text": "ANO=2021",
          "textangle": 90,
          "x": 0.98,
          "xanchor": "left",
          "xref": "paper",
          "y": 0.36875,
          "yanchor": "middle",
          "yref": "paper"
         },
         {
          "font": {},
          "showarrow": false,
          "text": "ANO=2020",
          "textangle": 90,
          "x": 0.98,
          "xanchor": "left",
          "xref": "paper",
          "y": 0.6312500000000001,
          "yanchor": "middle",
          "yref": "paper"
         },
         {
          "font": {},
          "showarrow": false,
          "text": "ANO=2019",
          "textangle": 90,
          "x": 0.98,
          "xanchor": "left",
          "xref": "paper",
          "y": 0.89375,
          "yanchor": "middle",
          "yref": "paper"
         }
        ],
        "barmode": "relative",
        "height": 1200,
        "legend": {
         "tracegroupgap": 0
        },
        "showlegend": false,
        "template": {
         "data": {
          "bar": [
           {
            "error_x": {
             "color": "#2a3f5f"
            },
            "error_y": {
             "color": "#2a3f5f"
            },
            "marker": {
             "line": {
              "color": "#E5ECF6",
              "width": 0.5
             },
             "pattern": {
              "fillmode": "overlay",
              "size": 10,
              "solidity": 0.2
             }
            },
            "type": "bar"
           }
          ],
          "barpolar": [
           {
            "marker": {
             "line": {
              "color": "#E5ECF6",
              "width": 0.5
             },
             "pattern": {
              "fillmode": "overlay",
              "size": 10,
              "solidity": 0.2
             }
            },
            "type": "barpolar"
           }
          ],
          "carpet": [
           {
            "aaxis": {
             "endlinecolor": "#2a3f5f",
             "gridcolor": "white",
             "linecolor": "white",
             "minorgridcolor": "white",
             "startlinecolor": "#2a3f5f"
            },
            "baxis": {
             "endlinecolor": "#2a3f5f",
             "gridcolor": "white",
             "linecolor": "white",
             "minorgridcolor": "white",
             "startlinecolor": "#2a3f5f"
            },
            "type": "carpet"
           }
          ],
          "choropleth": [
           {
            "colorbar": {
             "outlinewidth": 0,
             "ticks": ""
            },
            "type": "choropleth"
           }
          ],
          "contour": [
           {
            "colorbar": {
             "outlinewidth": 0,
             "ticks": ""
            },
            "colorscale": [
             [
              0,
              "#0d0887"
             ],
             [
              0.1111111111111111,
              "#46039f"
             ],
             [
              0.2222222222222222,
              "#7201a8"
             ],
             [
              0.3333333333333333,
              "#9c179e"
             ],
             [
              0.4444444444444444,
              "#bd3786"
             ],
             [
              0.5555555555555556,
              "#d8576b"
             ],
             [
              0.6666666666666666,
              "#ed7953"
             ],
             [
              0.7777777777777778,
              "#fb9f3a"
             ],
             [
              0.8888888888888888,
              "#fdca26"
             ],
             [
              1,
              "#f0f921"
             ]
            ],
            "type": "contour"
           }
          ],
          "contourcarpet": [
           {
            "colorbar": {
             "outlinewidth": 0,
             "ticks": ""
            },
            "type": "contourcarpet"
           }
          ],
          "heatmap": [
           {
            "colorbar": {
             "outlinewidth": 0,
             "ticks": ""
            },
            "colorscale": [
             [
              0,
              "#0d0887"
             ],
             [
              0.1111111111111111,
              "#46039f"
             ],
             [
              0.2222222222222222,
              "#7201a8"
             ],
             [
              0.3333333333333333,
              "#9c179e"
             ],
             [
              0.4444444444444444,
              "#bd3786"
             ],
             [
              0.5555555555555556,
              "#d8576b"
             ],
             [
              0.6666666666666666,
              "#ed7953"
             ],
             [
              0.7777777777777778,
              "#fb9f3a"
             ],
             [
              0.8888888888888888,
              "#fdca26"
             ],
             [
              1,
              "#f0f921"
             ]
            ],
            "type": "heatmap"
           }
          ],
          "heatmapgl": [
           {
            "colorbar": {
             "outlinewidth": 0,
             "ticks": ""
            },
            "colorscale": [
             [
              0,
              "#0d0887"
             ],
             [
              0.1111111111111111,
              "#46039f"
             ],
             [
              0.2222222222222222,
              "#7201a8"
             ],
             [
              0.3333333333333333,
              "#9c179e"
             ],
             [
              0.4444444444444444,
              "#bd3786"
             ],
             [
              0.5555555555555556,
              "#d8576b"
             ],
             [
              0.6666666666666666,
              "#ed7953"
             ],
             [
              0.7777777777777778,
              "#fb9f3a"
             ],
             [
              0.8888888888888888,
              "#fdca26"
             ],
             [
              1,
              "#f0f921"
             ]
            ],
            "type": "heatmapgl"
           }
          ],
          "histogram": [
           {
            "marker": {
             "pattern": {
              "fillmode": "overlay",
              "size": 10,
              "solidity": 0.2
             }
            },
            "type": "histogram"
           }
          ],
          "histogram2d": [
           {
            "colorbar": {
             "outlinewidth": 0,
             "ticks": ""
            },
            "colorscale": [
             [
              0,
              "#0d0887"
             ],
             [
              0.1111111111111111,
              "#46039f"
             ],
             [
              0.2222222222222222,
              "#7201a8"
             ],
             [
              0.3333333333333333,
              "#9c179e"
             ],
             [
              0.4444444444444444,
              "#bd3786"
             ],
             [
              0.5555555555555556,
              "#d8576b"
             ],
             [
              0.6666666666666666,
              "#ed7953"
             ],
             [
              0.7777777777777778,
              "#fb9f3a"
             ],
             [
              0.8888888888888888,
              "#fdca26"
             ],
             [
              1,
              "#f0f921"
             ]
            ],
            "type": "histogram2d"
           }
          ],
          "histogram2dcontour": [
           {
            "colorbar": {
             "outlinewidth": 0,
             "ticks": ""
            },
            "colorscale": [
             [
              0,
              "#0d0887"
             ],
             [
              0.1111111111111111,
              "#46039f"
             ],
             [
              0.2222222222222222,
              "#7201a8"
             ],
             [
              0.3333333333333333,
              "#9c179e"
             ],
             [
              0.4444444444444444,
              "#bd3786"
             ],
             [
              0.5555555555555556,
              "#d8576b"
             ],
             [
              0.6666666666666666,
              "#ed7953"
             ],
             [
              0.7777777777777778,
              "#fb9f3a"
             ],
             [
              0.8888888888888888,
              "#fdca26"
             ],
             [
              1,
              "#f0f921"
             ]
            ],
            "type": "histogram2dcontour"
           }
          ],
          "mesh3d": [
           {
            "colorbar": {
             "outlinewidth": 0,
             "ticks": ""
            },
            "type": "mesh3d"
           }
          ],
          "parcoords": [
           {
            "line": {
             "colorbar": {
              "outlinewidth": 0,
              "ticks": ""
             }
            },
            "type": "parcoords"
           }
          ],
          "pie": [
           {
            "automargin": true,
            "type": "pie"
           }
          ],
          "scatter": [
           {
            "fillpattern": {
             "fillmode": "overlay",
             "size": 10,
             "solidity": 0.2
            },
            "type": "scatter"
           }
          ],
          "scatter3d": [
           {
            "line": {
             "colorbar": {
              "outlinewidth": 0,
              "ticks": ""
             }
            },
            "marker": {
             "colorbar": {
              "outlinewidth": 0,
              "ticks": ""
             }
            },
            "type": "scatter3d"
           }
          ],
          "scattercarpet": [
           {
            "marker": {
             "colorbar": {
              "outlinewidth": 0,
              "ticks": ""
             }
            },
            "type": "scattercarpet"
           }
          ],
          "scattergeo": [
           {
            "marker": {
             "colorbar": {
              "outlinewidth": 0,
              "ticks": ""
             }
            },
            "type": "scattergeo"
           }
          ],
          "scattergl": [
           {
            "marker": {
             "colorbar": {
              "outlinewidth": 0,
              "ticks": ""
             }
            },
            "type": "scattergl"
           }
          ],
          "scattermapbox": [
           {
            "marker": {
             "colorbar": {
              "outlinewidth": 0,
              "ticks": ""
             }
            },
            "type": "scattermapbox"
           }
          ],
          "scatterpolar": [
           {
            "marker": {
             "colorbar": {
              "outlinewidth": 0,
              "ticks": ""
             }
            },
            "type": "scatterpolar"
           }
          ],
          "scatterpolargl": [
           {
            "marker": {
             "colorbar": {
              "outlinewidth": 0,
              "ticks": ""
             }
            },
            "type": "scatterpolargl"
           }
          ],
          "scatterternary": [
           {
            "marker": {
             "colorbar": {
              "outlinewidth": 0,
              "ticks": ""
             }
            },
            "type": "scatterternary"
           }
          ],
          "surface": [
           {
            "colorbar": {
             "outlinewidth": 0,
             "ticks": ""
            },
            "colorscale": [
             [
              0,
              "#0d0887"
             ],
             [
              0.1111111111111111,
              "#46039f"
             ],
             [
              0.2222222222222222,
              "#7201a8"
             ],
             [
              0.3333333333333333,
              "#9c179e"
             ],
             [
              0.4444444444444444,
              "#bd3786"
             ],
             [
              0.5555555555555556,
              "#d8576b"
             ],
             [
              0.6666666666666666,
              "#ed7953"
             ],
             [
              0.7777777777777778,
              "#fb9f3a"
             ],
             [
              0.8888888888888888,
              "#fdca26"
             ],
             [
              1,
              "#f0f921"
             ]
            ],
            "type": "surface"
           }
          ],
          "table": [
           {
            "cells": {
             "fill": {
              "color": "#EBF0F8"
             },
             "line": {
              "color": "white"
             }
            },
            "header": {
             "fill": {
              "color": "#C8D4E3"
             },
             "line": {
              "color": "white"
             }
            },
            "type": "table"
           }
          ]
         },
         "layout": {
          "annotationdefaults": {
           "arrowcolor": "#2a3f5f",
           "arrowhead": 0,
           "arrowwidth": 1
          },
          "autotypenumbers": "strict",
          "coloraxis": {
           "colorbar": {
            "outlinewidth": 0,
            "ticks": ""
           }
          },
          "colorscale": {
           "diverging": [
            [
             0,
             "#8e0152"
            ],
            [
             0.1,
             "#c51b7d"
            ],
            [
             0.2,
             "#de77ae"
            ],
            [
             0.3,
             "#f1b6da"
            ],
            [
             0.4,
             "#fde0ef"
            ],
            [
             0.5,
             "#f7f7f7"
            ],
            [
             0.6,
             "#e6f5d0"
            ],
            [
             0.7,
             "#b8e186"
            ],
            [
             0.8,
             "#7fbc41"
            ],
            [
             0.9,
             "#4d9221"
            ],
            [
             1,
             "#276419"
            ]
           ],
           "sequential": [
            [
             0,
             "#0d0887"
            ],
            [
             0.1111111111111111,
             "#46039f"
            ],
            [
             0.2222222222222222,
             "#7201a8"
            ],
            [
             0.3333333333333333,
             "#9c179e"
            ],
            [
             0.4444444444444444,
             "#bd3786"
            ],
            [
             0.5555555555555556,
             "#d8576b"
            ],
            [
             0.6666666666666666,
             "#ed7953"
            ],
            [
             0.7777777777777778,
             "#fb9f3a"
            ],
            [
             0.8888888888888888,
             "#fdca26"
            ],
            [
             1,
             "#f0f921"
            ]
           ],
           "sequentialminus": [
            [
             0,
             "#0d0887"
            ],
            [
             0.1111111111111111,
             "#46039f"
            ],
            [
             0.2222222222222222,
             "#7201a8"
            ],
            [
             0.3333333333333333,
             "#9c179e"
            ],
            [
             0.4444444444444444,
             "#bd3786"
            ],
            [
             0.5555555555555556,
             "#d8576b"
            ],
            [
             0.6666666666666666,
             "#ed7953"
            ],
            [
             0.7777777777777778,
             "#fb9f3a"
            ],
            [
             0.8888888888888888,
             "#fdca26"
            ],
            [
             1,
             "#f0f921"
            ]
           ]
          },
          "colorway": [
           "#636efa",
           "#EF553B",
           "#00cc96",
           "#ab63fa",
           "#FFA15A",
           "#19d3f3",
           "#FF6692",
           "#B6E880",
           "#FF97FF",
           "#FECB52"
          ],
          "font": {
           "color": "#2a3f5f"
          },
          "geo": {
           "bgcolor": "white",
           "lakecolor": "white",
           "landcolor": "#E5ECF6",
           "showlakes": true,
           "showland": true,
           "subunitcolor": "white"
          },
          "hoverlabel": {
           "align": "left"
          },
          "hovermode": "closest",
          "mapbox": {
           "style": "light"
          },
          "paper_bgcolor": "white",
          "plot_bgcolor": "#E5ECF6",
          "polar": {
           "angularaxis": {
            "gridcolor": "white",
            "linecolor": "white",
            "ticks": ""
           },
           "bgcolor": "#E5ECF6",
           "radialaxis": {
            "gridcolor": "white",
            "linecolor": "white",
            "ticks": ""
           }
          },
          "scene": {
           "xaxis": {
            "backgroundcolor": "#E5ECF6",
            "gridcolor": "white",
            "gridwidth": 2,
            "linecolor": "white",
            "showbackground": true,
            "ticks": "",
            "zerolinecolor": "white"
           },
           "yaxis": {
            "backgroundcolor": "#E5ECF6",
            "gridcolor": "white",
            "gridwidth": 2,
            "linecolor": "white",
            "showbackground": true,
            "ticks": "",
            "zerolinecolor": "white"
           },
           "zaxis": {
            "backgroundcolor": "#E5ECF6",
            "gridcolor": "white",
            "gridwidth": 2,
            "linecolor": "white",
            "showbackground": true,
            "ticks": "",
            "zerolinecolor": "white"
           }
          },
          "shapedefaults": {
           "line": {
            "color": "#2a3f5f"
           }
          },
          "ternary": {
           "aaxis": {
            "gridcolor": "white",
            "linecolor": "white",
            "ticks": ""
           },
           "baxis": {
            "gridcolor": "white",
            "linecolor": "white",
            "ticks": ""
           },
           "bgcolor": "#E5ECF6",
           "caxis": {
            "gridcolor": "white",
            "linecolor": "white",
            "ticks": ""
           }
          },
          "title": {
           "x": 0.05
          },
          "xaxis": {
           "automargin": true,
           "gridcolor": "white",
           "linecolor": "white",
           "ticks": "",
           "title": {
            "standoff": 15
           },
           "zerolinecolor": "white",
           "zerolinewidth": 2
          },
          "yaxis": {
           "automargin": true,
           "gridcolor": "white",
           "linecolor": "white",
           "ticks": "",
           "title": {
            "standoff": 15
           },
           "zerolinecolor": "white",
           "zerolinewidth": 2
          }
         }
        },
        "title": {
         "text": "Top 10 Senadores por Ano (Últimos 4 Anos)",
         "x": 0.5
        },
        "xaxis": {
         "anchor": "y",
         "automargin": true,
         "domain": [
          0,
          0.98
         ],
         "tickangle": 90,
         "title": {
          "text": "SENADOR"
         }
        },
        "xaxis2": {
         "anchor": "y2",
         "automargin": true,
         "domain": [
          0,
          0.98
         ],
         "matches": "x",
         "showticklabels": false,
         "tickangle": 90
        },
        "xaxis3": {
         "anchor": "y3",
         "automargin": true,
         "domain": [
          0,
          0.98
         ],
         "matches": "x",
         "showticklabels": false,
         "tickangle": 90
        },
        "xaxis4": {
         "anchor": "y4",
         "automargin": true,
         "domain": [
          0,
          0.98
         ],
         "matches": "x",
         "showticklabels": false,
         "tickangle": 90
        },
        "yaxis": {
         "anchor": "x",
         "automargin": true,
         "domain": [
          0,
          0.2125
         ],
         "tickformat": ".2f",
         "title": {
          "text": "VALOR_REEMBOLSADO"
         }
        },
        "yaxis2": {
         "anchor": "x2",
         "automargin": true,
         "domain": [
          0.2625,
          0.475
         ],
         "matches": "y",
         "tickformat": ".2f",
         "title": {
          "text": "VALOR_REEMBOLSADO"
         }
        },
        "yaxis3": {
         "anchor": "x3",
         "automargin": true,
         "domain": [
          0.525,
          0.7375
         ],
         "matches": "y",
         "tickformat": ".2f",
         "title": {
          "text": "VALOR_REEMBOLSADO"
         }
        },
        "yaxis4": {
         "anchor": "x4",
         "automargin": true,
         "domain": [
          0.7875,
          1
         ],
         "matches": "y",
         "tickformat": ".2f",
         "title": {
          "text": "VALOR_REEMBOLSADO"
         }
        }
       }
      }
     },
     "metadata": {},
     "output_type": "display_data"
    }
   ],
   "source": [
    "# Agrupar e somar por ano e senador\n",
    "df_agg = dataset.groupby(['SENADOR', 'ANO'])['VALOR_REEMBOLSADO'].sum().reset_index()\n",
    "\n",
    "# Selecionar os últimos 4 anos\n",
    "anos_disponiveis = sorted(df_agg['ANO'].unique())\n",
    "ultimos_4_anos = anos_disponiveis[-4:]\n",
    "\n",
    "# Filtrar apenas os últimos 4 anos\n",
    "df_ultimos_4 = df_agg[df_agg['ANO'].isin(ultimos_4_anos)]\n",
    "\n",
    "# Top 10 senadores por cada ano\n",
    "top_10_por_ano = df_ultimos_4.groupby('ANO', group_keys=False) \\\n",
    "                             .apply(lambda x: x.nlargest(10, 'VALOR_REEMBOLSADO')) \\\n",
    "                             .reset_index(drop=True)\n",
    "\n",
    "# Arredondar VALOR_REEMBOLSADO para 2 casas decimais\n",
    "top_10_por_ano['VALOR_REEMBOLSADO'] = top_10_por_ano['VALOR_REEMBOLSADO'].round(2)\n",
    "\n",
    "# Criar o gráfico com Plotly, um ano abaixo do outro\n",
    "# sharex=False garante que cada subplot terá seu próprio eixo X\n",
    "fig = px.bar(\n",
    "    top_10_por_ano,\n",
    "    x='SENADOR',\n",
    "    y='VALOR_REEMBOLSADO',\n",
    "    facet_row='ANO',\n",
    "    title='Top 10 Senadores por Ano (Últimos 4 Anos)',\n",
    "    height=1200,\n",
    "    facet_row_spacing=0.05,   # Ajuste o espaçamento vertical entre os subplots se necessário\n",
    ")\n",
    "\n",
    "# Manter os rótulos alinhados e legíveis\n",
    "fig.update_xaxes(tickangle=90, automargin=True)\n",
    "fig.update_yaxes(tickformat='.2f', automargin=True)\n",
    "\n",
    "# Desabilitar eixo X compartilhado para repetir os nomes de senadores em cada subplot\n",
    "fig.update_layout(\n",
    "    title_x=0.5,\n",
    "    showlegend=False,  # Caso não queira legenda repetida\n",
    ")\n",
    "\n",
    "# Mostrar o gráfico\n",
    "fig.show()\n"
   ]
  },
  {
   "cell_type": "markdown",
   "metadata": {},
   "source": [
    "Neste grafico vemos os vereadores que mais tiverem reembolsos entre os anos 2019 e 2022. Nesta disposição é possível identificar também os senadores que estiveram no top 10 nos 4 anos seguidos, sendo eles: MECIAS DE JESUS, ROGÉRIO CARVALHO e TELMÁRIO MOTA."
   ]
  },
  {
   "cell_type": "markdown",
   "metadata": {},
   "source": [
    "Vamos analisar esses três senadores em separado, para ver o montante dos reembolsos deles em relação ao total entre 2019 e 2022."
   ]
  },
  {
   "cell_type": "code",
   "execution_count": 35,
   "metadata": {},
   "outputs": [
    {
     "data": {
      "image/png": "[encoded data removed]",
      "text/plain": [
       "<Figure size 800x600 with 1 Axes>"
      ]
     },
     "metadata": {},
     "output_type": "display_data"
    }
   ],
   "source": [
    "# Nomes dos senadores de interesse\n",
    "senadores = ['MECIAS DE JESUS', 'ROGÉRIO CARVALHO', 'TELMÁRIO MOTA']\n",
    "\n",
    "# Filtrar os dados para esses senadores e somar os valores reembolsados\n",
    "soma_senadores = dataset[dataset['SENADOR'].isin(senadores)]['VALOR_REEMBOLSADO'].sum()\n",
    "\n",
    "# Converter VALOR_REEMBOLSADO para float, se ainda não está convertido\n",
    "dataset['VALOR_REEMBOLSADO'] = dataset['VALOR_REEMBOLSADO'].astype(float)\n",
    "\n",
    "# Calcular o total de VALOR_REEMBOLSADO no dataset\n",
    "total_reembolso = dataset['VALOR_REEMBOLSADO'].sum()\n",
    "\n",
    "# Calcular a porcentagem\n",
    "porcentagem = (soma_senadores / total_reembolso) * 100\n",
    "\n",
    "# Criar um gráfico de barras para mostrar a comparação\n",
    "fig, ax = plt.subplots(figsize=(8, 6))\n",
    "\n",
    "# Dados para o gráfico\n",
    "categorias = ['Selecionados', 'Total']\n",
    "valores = [soma_senadores, total_reembolso]\n",
    "\n",
    "ax.bar(categorias, valores, color=['blue', 'gray'])\n",
    "ax.set_ylabel('Valor Reembolsado')\n",
    "ax.set_title('Comparação de Reembolso: Senadores Selecionados vs Total')\n",
    "\n",
    "# Mostrar a porcentagem sobre a barra correspondente\n",
    "ax.text(0, soma_senadores, f'{porcentagem:.2f}%', ha='center', va='bottom', color='black')\n",
    "\n",
    "plt.tight_layout()\n",
    "plt.show()\n"
   ]
  },
  {
   "cell_type": "markdown",
   "metadata": {},
   "source": [
    "Agora uma pequena análise para saber quem foram os top 10 que mais receberam reembolsos nos 4 anos do dataset e quanto eles receberam."
   ]
  },
  {
   "cell_type": "code",
   "execution_count": 36,
   "metadata": {},
   "outputs": [
    {
     "data": {
      "image/png": "[encoded data removed]",
      "text/plain": [
       "<Figure size 800x600 with 1 Axes>"
      ]
     },
     "metadata": {},
     "output_type": "display_data"
    }
   ],
   "source": [
    "# Somar os reembolsos dos últimos 4 anos por senador utilizando a função para abreviar os valores\n",
    "df_4_anos = df_ultimos_4.groupby('SENADOR')['VALOR_REEMBOLSADO'].sum().reset_index()\n",
    "df_4_anos = df_4_anos.nlargest(10, 'VALOR_REEMBOLSADO')\n",
    "\n",
    "plt.figure(figsize=(8,6))\n",
    "ax = sns.barplot(\n",
    "    data=df_4_anos,\n",
    "    x='SENADOR',\n",
    "    y='VALOR_REEMBOLSADO'\n",
    ")\n",
    "\n",
    "# Adicionar os valores abreviados dentro de cada barra\n",
    "for p in ax.patches:\n",
    "    height = p.get_height()\n",
    "    valor_abreviado = abreviar_valor(height)\n",
    "    ax.annotate(valor_abreviado,\n",
    "                xy=(p.get_x() + p.get_width() / 2, height),\n",
    "                xytext=(0, 5),\n",
    "                textcoords='offset points',\n",
    "                ha='center', va='bottom',\n",
    "                color='black', fontsize=9)\n",
    "\n",
    "plt.xticks(rotation=90)\n",
    "plt.xlabel(\"Senador(a)\")\n",
    "plt.ylabel(\"Valor Reembolsado (Últimos 4 Anos)\")\n",
    "plt.title(\"Top 10 Senadores - Soma dos Últimos 4 Anos (Valores Abreviados)\")\n",
    "\n",
    "plt.tight_layout()\n",
    "plt.show()\n"
   ]
  },
  {
   "cell_type": "code",
   "execution_count": 37,
   "metadata": {},
   "outputs": [
    {
     "data": {
      "image/png": "[encoded data removed]",
      "text/plain": [
       "<Figure size 800x800 with 1 Axes>"
      ]
     },
     "metadata": {},
     "output_type": "display_data"
    }
   ],
   "source": [
    "# Filtrar os últimos 4 anos\n",
    "ultimos_4_anos = sorted(dataset['ANO'].unique())[-4:]\n",
    "\n",
    "# Somar reembolsos dos últimos 4 anos por senador\n",
    "df_4_anos = dataset[dataset['ANO'].isin(ultimos_4_anos)].groupby('SENADOR')['VALOR_REEMBOLSADO'].sum().reset_index()\n",
    "\n",
    "# Encontrar os top 10 senadores\n",
    "top_10_senadores = df_4_anos.nlargest(10, 'VALOR_REEMBOLSADO')\n",
    "\n",
    "# Calcular o total de reembolso\n",
    "total_reembolso = dataset['VALOR_REEMBOLSADO'].sum()\n",
    "\n",
    "# Calcular o reembolso dos top 10 senadores como uma porção do total\n",
    "top_10_total = top_10_senadores['VALOR_REEMBOLSADO'].sum()\n",
    "outros = total_reembolso - top_10_total\n",
    "\n",
    "# Criar gráfico de pizza\n",
    "plt.figure(figsize=(8, 8))\n",
    "somas = [top_10_total, outros]\n",
    "labels = ['Top 10 Senadores', 'Outros Senadores']\n",
    "colors = ['orange', 'skyblue']\n",
    "explode = (0.1, 0)  # 'explode' a slice if you want to highlight it\n",
    "\n",
    "plt.pie(somas, labels=[f\"{lab}: {abreviar_valor(val)}\" for lab, val in zip(labels, somas)], colors=colors, autopct='%1.1f%%', startangle=140, explode=explode)\n",
    "plt.title('Percentual dos Top 10 Senadores nos Reembolsos Totais')\n",
    "plt.axis('equal')  # Equal aspect ratio ensures that pie is drawn as a circle.\n",
    "\n",
    "plt.show()\n"
   ]
  },
  {
   "cell_type": "markdown",
   "metadata": {},
   "source": [
    "Neste gráfico vemos que apenas 10 senadores gastaram praticamente 1/5 do valor total reembolsado para os 159 senadores."
   ]
  },
  {
   "cell_type": "code",
   "execution_count": 40,
   "metadata": {},
   "outputs": [
    {
     "name": "stderr",
     "output_type": "stream",
     "text": [
      "/tmp/ipykernel_79222/1304771840.py:17: FutureWarning:\n",
      "\n",
      "'M' is deprecated and will be removed in a future version, please use 'ME' instead.\n",
      "\n",
      "/tmp/ipykernel_79222/1304771840.py:30: FutureWarning:\n",
      "\n",
      "'M' is deprecated and will be removed in a future version, please use 'ME' instead.\n",
      "\n"
     ]
    },
    {
     "data": {
      "image/png": "[encoded data removed]",
      "text/plain": [
       "<Figure size 1000x600 with 1 Axes>"
      ]
     },
     "metadata": {},
     "output_type": "display_data"
    },
    {
     "name": "stdout",
     "output_type": "stream",
     "text": [
      "           VALOR_REEMBOLSADO\n",
      "2023-01-31               NaN\n",
      "2023-02-28               NaN\n",
      "2023-03-31               NaN\n",
      "2023-04-30               NaN\n",
      "2023-05-31               NaN\n",
      "2023-06-30               NaN\n",
      "2023-07-31               NaN\n",
      "2023-08-31               NaN\n",
      "2023-09-30               NaN\n",
      "2023-10-31               NaN\n",
      "2023-11-30               NaN\n",
      "2023-12-31               NaN\n",
      "2024-01-31               NaN\n",
      "2024-02-29               NaN\n",
      "2024-03-31               NaN\n",
      "2024-04-30               NaN\n",
      "2024-05-31               NaN\n",
      "2024-06-30               NaN\n",
      "2024-07-31               NaN\n",
      "2024-08-31               NaN\n",
      "2024-09-30               NaN\n",
      "2024-10-31               NaN\n",
      "2024-11-30               NaN\n",
      "2024-12-31               NaN\n",
      "2025-01-31               NaN\n",
      "2025-02-28               NaN\n",
      "2025-03-31               NaN\n",
      "2025-04-30               NaN\n",
      "2025-05-31               NaN\n",
      "2025-06-30               NaN\n",
      "2025-07-31               NaN\n",
      "2025-08-31               NaN\n",
      "2025-09-30               NaN\n",
      "2025-10-31               NaN\n",
      "2025-11-30               NaN\n",
      "2025-12-31               NaN\n",
      "MAE (Erro Médio Absoluto): 339699.97\n",
      "RMSE (Erro Quadrático Médio): 486424.77\n"
     ]
    }
   ],
   "source": [
    "# 1. Criar uma cópia do dataset para evitar alterações no original\n",
    "dataset_forecast = dataset.copy()\n",
    "\n",
    "# 2. Manter apenas as variáveis necessárias\n",
    "dataset_forecast = dataset_forecast[['DATA', 'VALOR_REEMBOLSADO']]\n",
    "\n",
    "# 3. Garantir que os dados estão ordenados por data\n",
    "dataset_forecast = dataset_forecast.sort_values('DATA')\n",
    "\n",
    "# 4. Definir a coluna 'DATA' como índice\n",
    "dataset_forecast.set_index('DATA', inplace=True)\n",
    "\n",
    "# 5. Filtrar os dados para os anos de 2019 a 2022\n",
    "dataset_forecast = dataset_forecast[(dataset_forecast.index.year >= 2019) & (dataset_forecast.index.year <= 2022)]\n",
    "\n",
    "# 6. Resample para mensal (somando os valores por mês)\n",
    "dataset_monthly_forecast = dataset_forecast.resample('M').sum()  # Soma dos valores mensais\n",
    "\n",
    "# 7. Dividir os dados em treino (tudo até 2022) e preparar para previsão\n",
    "train_forecast = dataset_monthly_forecast\n",
    "\n",
    "# 8. Criar o modelo ARIMA\n",
    "model_forecast = ARIMA(train_forecast, order=(5, 1, 0))  # Os parâmetros podem ser ajustados\n",
    "model_fit_forecast = model_forecast.fit()\n",
    "\n",
    "# 9. Fazer previsões para 36 meses (2023, 2024, 2025)\n",
    "forecast_forecast = model_fit_forecast.forecast(steps=36)  # Previsão para os próximos 36 meses (3 anos)\n",
    "\n",
    "# 10. Criar um índice de datas para os anos de 2023 a 2025\n",
    "forecast_index_forecast = pd.date_range(start='2023-01-01', periods=36, freq='M')\n",
    "\n",
    "# 11. Criar um DataFrame para armazenar as previsões com o índice de datas gerado\n",
    "forecast_df_forecast = pd.DataFrame(forecast_forecast, index=forecast_index_forecast, columns=['VALOR_REEMBOLSADO'])\n",
    "\n",
    "# 12. Plotar os resultados\n",
    "plt.figure(figsize=(10, 6))\n",
    "plt.plot(dataset_monthly_forecast.index, dataset_monthly_forecast['VALOR_REEMBOLSADO'], label='Dados históricos')\n",
    "plt.plot(forecast_df_forecast.index, forecast_df_forecast['VALOR_REEMBOLSADO'], label='Previsões', color='red')\n",
    "plt.legend()\n",
    "plt.title('Projeção do Valor Reembolsado para 2023 a 2025')\n",
    "plt.show()\n",
    "\n",
    "# 13. Exibir as previsões\n",
    "print(forecast_df_forecast)\n",
    "\n",
    "# 14. Avaliação do modelo\n",
    "# Usaremos o erro médio absoluto (MAE) e o erro quadrático médio (RMSE)\n",
    "y_forecast_pred = model_fit_forecast.predict(start=dataset_monthly_forecast.index[0], end=dataset_monthly_forecast.index[-1])\n",
    "\n",
    "# Calcular MAE e RMSE\n",
    "mae_forecast = mean_absolute_error(dataset_monthly_forecast['VALOR_REEMBOLSADO'], y_forecast_pred)\n",
    "rmse_forecast = np.sqrt(mean_squared_error(dataset_monthly_forecast['VALOR_REEMBOLSADO'], y_forecast_pred))\n",
    "\n",
    "# Exibir as métricas de avaliação\n",
    "print(f'MAE (Erro Médio Absoluto): {mae_forecast:.2f}')\n",
    "print(f'RMSE (Erro Quadrático Médio): {rmse_forecast:.2f}')\n"
   ]
  },
  {
   "cell_type": "code",
   "execution_count": 39,
   "metadata": {},
   "outputs": [
    {
     "data": {
      "image/png": "[encoded data removed]",
      "text/plain": [
       "<Figure size 1000x600 with 1 Axes>"
      ]
     },
     "metadata": {},
     "output_type": "display_data"
    },
    {
     "name": "stdout",
     "output_type": "stream",
     "text": [
      "MAE (Erro Médio Absoluto): 8553070.60\n",
      "RMSE (Erro Quadrático Médio): 9445667.19\n"
     ]
    }
   ],
   "source": [
    "# Criar uma cópia do dataset para evitar alterações no original\n",
    "dataset_regressao = dataset.copy()\n",
    "\n",
    "# Agrupar dados por ANO e somar os VALOR_REEMBOLSADO\n",
    "dataset_regressao['ANO'] = dataset_regressao['DATA'].dt.year  # Adicionando a coluna 'ANO' se ainda não estiver presente\n",
    "df_agg = dataset_regressao.groupby('ANO')['VALOR_REEMBOLSADO'].sum().reset_index()\n",
    "\n",
    "# Preparar dados para regressão\n",
    "X = df_agg['ANO'].values.reshape(-1, 1)  # Features\n",
    "y = df_agg['VALOR_REEMBOLSADO'].values   # Target\n",
    "\n",
    "# Criar e treinar o modelo de regressão linear\n",
    "model = LinearRegression()\n",
    "model.fit(X, y)\n",
    "\n",
    "# Definir anos futuros para previsão\n",
    "anos_futuros = np.array([[ano] for ano in range(X.max() + 1, X.max() + 6)])\n",
    "\n",
    "# Usar o modelo para fazer previsões para os próximos anos\n",
    "previsoes = model.predict(anos_futuros)\n",
    "\n",
    "# Função para abreviar valores monetários\n",
    "def abreviar_valor(valor):\n",
    "    if valor >= 1e9:\n",
    "        return f'R$ {valor / 1e9:.1f} Bi'\n",
    "    elif valor >= 1e6:\n",
    "        return f'R$ {valor / 1e6:.1f} Mi'\n",
    "    elif valor >= 1e3:\n",
    "        return f'R$ {valor / 1e3:.1f} mil'\n",
    "    else:\n",
    "        return f'R$ {valor:.1f}'\n",
    "\n",
    "# Plotar os resultados\n",
    "plt.figure(figsize=(10, 6))\n",
    "plt.scatter(X, y, color='blue', label='Dados Históricos')\n",
    "plt.plot(X, model.predict(X), color='gray', linestyle='--', label='Linha de Tendência')\n",
    "plt.plot(anos_futuros, previsoes, color='red', marker='o', label='Projeções Futuras')\n",
    "\n",
    "# Adicionando valores abreviados sobre cada ponto de projeção\n",
    "for i, valor in zip(anos_futuros, previsoes):\n",
    "    plt.text(i, valor, abreviar_valor(valor), fontsize=9, ha='center', va='bottom')\n",
    "\n",
    "plt.title('Projeção de Reembolsos Futuros')\n",
    "plt.xlabel('Ano')\n",
    "plt.ylabel('Valor Reembolsado Total (R$)')\n",
    "plt.xticks(np.append(X.ravel(), anos_futuros.ravel()), rotation=45)\n",
    "plt.legend()\n",
    "plt.grid(True)\n",
    "plt.show()\n",
    "\n",
    "# 1. Avaliação do modelo\n",
    "# Usaremos o erro médio absoluto (MAE) e o erro quadrático médio (RMSE)\n",
    "y_pred = model.predict(X)\n",
    "\n",
    "# Calcular MAE e RMSE\n",
    "mae = mean_absolute_error(y, y_pred)\n",
    "rmse = np.sqrt(mean_squared_error(y, y_pred))\n",
    "\n",
    "# Exibir as métricas de avaliação\n",
    "print(f'MAE (Erro Médio Absoluto): {mae:.2f}')\n",
    "print(f'RMSE (Erro Quadrático Médio): {rmse:.2f}')\n"
   ]
  }
 ],
 "metadata": {
  "kernelspec": {
   "display_name": "base",
   "language": "python",
   "name": "python3"
  },
  "language_info": {
   "codemirror_mode": {
    "name": "ipython",
    "version": 3
   },
   "file_extension": ".py",
   "mimetype": "text/x-python",
   "name": "python",
   "nbconvert_exporter": "python",
   "pygments_lexer": "ipython3",
   "version": "3.12.4"
  }
 },
 "nbformat": 4,
 "nbformat_minor": 2
}
